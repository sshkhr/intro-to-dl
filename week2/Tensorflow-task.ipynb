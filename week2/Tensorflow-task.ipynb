{
 "cells": [
  {
   "cell_type": "markdown",
   "metadata": {
    "slideshow": {
     "slide_type": "slide"
    }
   },
   "source": [
    "# Going deeper with Tensorflow\n",
    "\n",
    "In this video, we're going to study the tools you'll use to build deep learning models. Namely, [Tensorflow](https://www.tensorflow.org/).\n",
    "\n",
    "If you're running this notebook outside the course environment, you'll need to install tensorflow:\n",
    "* `pip install tensorflow` should install cpu-only TF on Linux & Mac OS\n",
    "* If you want GPU support from offset, see [TF install page](https://www.tensorflow.org/install/)"
   ]
  },
  {
   "cell_type": "code",
   "execution_count": 1,
   "metadata": {
    "collapsed": true
   },
   "outputs": [],
   "source": [
    "import sys\n",
    "sys.path.append(\"..\")\n",
    "import grading"
   ]
  },
  {
   "cell_type": "markdown",
   "metadata": {},
   "source": [
    "# Visualization"
   ]
  },
  {
   "cell_type": "markdown",
   "metadata": {},
   "source": [
    "Plase note that if you are running on the Coursera platform, you won't be able to access the tensorboard instance due to the network setup there. If you run the notebook locally, you should be able to access TensorBoard on http://127.0.0.1:7007/"
   ]
  },
  {
   "cell_type": "code",
   "execution_count": null,
   "metadata": {
    "collapsed": true
   },
   "outputs": [],
   "source": [
    "! killall tensorboard\n",
    "import os\n",
    "os.system(\"tensorboard --logdir=/tmp/tboard --port=7007 &\");"
   ]
  },
  {
   "cell_type": "code",
   "execution_count": 2,
   "metadata": {
    "collapsed": true
   },
   "outputs": [],
   "source": [
    "import tensorflow as tf\n",
    "s = tf.InteractiveSession()"
   ]
  },
  {
   "cell_type": "markdown",
   "metadata": {},
   "source": [
    "# Warming up\n",
    "For starters, let's implement a python function that computes the sum of squares of numbers from 0 to N-1."
   ]
  },
  {
   "cell_type": "code",
   "execution_count": 3,
   "metadata": {
    "collapsed": true
   },
   "outputs": [],
   "source": [
    "import numpy as np\n",
    "def sum_sin(N):\n",
    "    return np.sum(np.arange(N)**2)"
   ]
  },
  {
   "cell_type": "code",
   "execution_count": 4,
   "metadata": {},
   "outputs": [
    {
     "name": "stdout",
     "output_type": "stream",
     "text": [
      "Wall time: 442 ms\n"
     ]
    },
    {
     "data": {
      "text/plain": [
       "-1452071552"
      ]
     },
     "execution_count": 4,
     "metadata": {},
     "output_type": "execute_result"
    }
   ],
   "source": [
    "%%time\n",
    "sum_sin(10**8)"
   ]
  },
  {
   "cell_type": "markdown",
   "metadata": {},
   "source": [
    "# Tensoflow teaser\n",
    "\n",
    "Doing the very same thing"
   ]
  },
  {
   "cell_type": "code",
   "execution_count": 5,
   "metadata": {
    "collapsed": true
   },
   "outputs": [],
   "source": [
    "# An integer parameter\n",
    "N = tf.placeholder('int64', name=\"input_to_your_function\")\n",
    "\n",
    "# A recipe on how to produce the same result\n",
    "result = tf.reduce_sum(tf.range(N)**2)"
   ]
  },
  {
   "cell_type": "code",
   "execution_count": 6,
   "metadata": {},
   "outputs": [
    {
     "data": {
      "text/plain": [
       "<tf.Tensor 'Sum:0' shape=() dtype=int64>"
      ]
     },
     "execution_count": 6,
     "metadata": {},
     "output_type": "execute_result"
    }
   ],
   "source": [
    "result"
   ]
  },
  {
   "cell_type": "code",
   "execution_count": 7,
   "metadata": {},
   "outputs": [
    {
     "name": "stdout",
     "output_type": "stream",
     "text": [
      "Wall time: 4.46 s\n"
     ]
    },
    {
     "data": {
      "text/plain": [
       "662921401752298880"
      ]
     },
     "execution_count": 7,
     "metadata": {},
     "output_type": "execute_result"
    }
   ],
   "source": [
    "%%time\n",
    "result.eval({N: 10**8})"
   ]
  },
  {
   "cell_type": "code",
   "execution_count": 8,
   "metadata": {
    "collapsed": true
   },
   "outputs": [],
   "source": [
    "writer = tf.summary.FileWriter(\"/tmp/tboard\", graph=s.graph)"
   ]
  },
  {
   "cell_type": "markdown",
   "metadata": {},
   "source": [
    "# How does it work?\n",
    "1. Define placeholders where you'll send inputs\n",
    "2. Make symbolic graph: a recipe for mathematical transformation of those placeholders\n",
    "3. Compute outputs of your graph with particular values for each placeholder\n",
    "  * `output.eval({placeholder:value})`\n",
    "  * `s.run(output, {placeholder:value})`\n",
    "\n",
    "So far there are two main entities: \"placeholder\" and \"transformation\"\n",
    "* Both can be numbers, vectors, matrices, tensors, etc.\n",
    "* Both can be int32/64, floats, booleans (uint8) of various size.\n",
    "\n",
    "* You can define new transformations as an arbitrary operation on placeholders and other transformations\n",
    " * `tf.reduce_sum(tf.arange(N)**2)` are 3 sequential transformations of placeholder `N`\n",
    " * There's a tensorflow symbolic version for every numpy function\n",
    "   * `a+b, a/b, a**b, ...` behave just like in numpy\n",
    "   * `np.mean` -> `tf.reduce_mean`\n",
    "   * `np.arange` -> `tf.range`\n",
    "   * `np.cumsum` -> `tf.cumsum`\n",
    "   * If if you can't find the op you need, see the [docs](https://www.tensorflow.org/api_docs/python).\n",
    "   \n",
    "`tf.contrib` has many high-level features, may be worth a look."
   ]
  },
  {
   "cell_type": "code",
   "execution_count": 9,
   "metadata": {
    "collapsed": true
   },
   "outputs": [],
   "source": [
    "with tf.name_scope(\"Placeholders_examples\"):\n",
    "    # Default placeholder that can be arbitrary float32\n",
    "    # scalar, vertor, matrix, etc.\n",
    "    arbitrary_input = tf.placeholder('float32')\n",
    "\n",
    "    # Input vector of arbitrary length\n",
    "    input_vector = tf.placeholder('float32', shape=(None,))\n",
    "\n",
    "    # Input vector that _must_ have 10 elements and integer type\n",
    "    fixed_vector = tf.placeholder('int32', shape=(10,))\n",
    "\n",
    "    # Matrix of arbitrary n_rows and 15 columns\n",
    "    # (e.g. a minibatch your data table)\n",
    "    input_matrix = tf.placeholder('float32', shape=(None, 15))\n",
    "    \n",
    "    # You can generally use None whenever you don't need a specific shape\n",
    "    input1 = tf.placeholder('float64', shape=(None, 100, None))\n",
    "    input2 = tf.placeholder('int32', shape=(None, None, 3, 224, 224))\n",
    "\n",
    "    # elementwise multiplication\n",
    "    double_the_vector = input_vector*2\n",
    "\n",
    "    # elementwise cosine\n",
    "    elementwise_cosine = tf.cos(input_vector)\n",
    "\n",
    "    # difference between squared vector and vector itself plus one\n",
    "    vector_squares = input_vector**2 - input_vector + 1"
   ]
  },
  {
   "cell_type": "code",
   "execution_count": 10,
   "metadata": {
    "collapsed": true
   },
   "outputs": [],
   "source": [
    "my_vector =  tf.placeholder('float32', shape=(None,), name=\"VECTOR_1\")\n",
    "my_vector2 = tf.placeholder('float32', shape=(None,))\n",
    "my_transformation = my_vector * my_vector2 / (tf.sin(my_vector) + 1)"
   ]
  },
  {
   "cell_type": "code",
   "execution_count": 11,
   "metadata": {},
   "outputs": [
    {
     "name": "stdout",
     "output_type": "stream",
     "text": [
      "Tensor(\"truediv:0\", shape=(?,), dtype=float32)\n"
     ]
    }
   ],
   "source": [
    "print(my_transformation)"
   ]
  },
  {
   "cell_type": "code",
   "execution_count": 12,
   "metadata": {},
   "outputs": [
    {
     "name": "stdout",
     "output_type": "stream",
     "text": [
      "[ 0.  1.  2.  3.  4.]\n"
     ]
    },
    {
     "data": {
      "text/plain": [
       "array([ 0.        ,  1.62913239,  2.09501147,  2.62899613,  0.        ], dtype=float32)"
      ]
     },
     "execution_count": 12,
     "metadata": {},
     "output_type": "execute_result"
    }
   ],
   "source": [
    "dummy = np.arange(5).astype('float32')\n",
    "print(dummy)\n",
    "my_transformation.eval({my_vector:dummy, my_vector2:dummy[::-1]})"
   ]
  },
  {
   "cell_type": "code",
   "execution_count": 13,
   "metadata": {
    "collapsed": true
   },
   "outputs": [],
   "source": [
    "writer.add_graph(my_transformation.graph)\n",
    "writer.flush()"
   ]
  },
  {
   "cell_type": "markdown",
   "metadata": {},
   "source": [
    "TensorBoard allows writing scalars, images, audio, histogram. You can read more on tensorboard usage [here](https://www.tensorflow.org/get_started/graph_viz)."
   ]
  },
  {
   "cell_type": "markdown",
   "metadata": {},
   "source": [
    "# Summary\n",
    "* Tensorflow is based on computation graphs\n",
    "* The graphs consist of placehlders and transformations"
   ]
  },
  {
   "cell_type": "markdown",
   "metadata": {},
   "source": [
    "# Mean squared error\n",
    "\n",
    "Your assignment is to implement mean squared error in tensorflow."
   ]
  },
  {
   "cell_type": "code",
   "execution_count": 14,
   "metadata": {
    "collapsed": true
   },
   "outputs": [],
   "source": [
    "with tf.name_scope(\"MSE\"):\n",
    "    y_true = tf.placeholder(\"float32\", shape=(None,), name=\"y_true\")\n",
    "    y_predicted = tf.placeholder(\"float32\", shape=(None,), name=\"y_predicted\")\n",
    "    # Your code goes here\n",
    "    # You want to use tf.reduce_mean\n",
    "    # mse = tf.<...>\n",
    "    \n",
    "    error = y_true - y_predicted\n",
    "    squared_error = error**2\n",
    "    mse = tf.reduce_mean(squared_error)\n",
    "    \n",
    "def compute_mse(vector1, vector2):\n",
    "    return mse.eval({y_true: vector1, y_predicted: vector2})"
   ]
  },
  {
   "cell_type": "code",
   "execution_count": 15,
   "metadata": {
    "collapsed": true
   },
   "outputs": [],
   "source": [
    "writer.add_graph(mse.graph)\n",
    "writer.flush()"
   ]
  },
  {
   "cell_type": "markdown",
   "metadata": {},
   "source": [
    "Tests and result submission. Please use the credentials obtained from the Coursera assignment page."
   ]
  },
  {
   "cell_type": "code",
   "execution_count": 16,
   "metadata": {
    "collapsed": true
   },
   "outputs": [],
   "source": [
    "import submit"
   ]
  },
  {
   "cell_type": "code",
   "execution_count": 17,
   "metadata": {},
   "outputs": [
    {
     "name": "stdout",
     "output_type": "stream",
     "text": [
      "Submitted to Coursera platform. See results on assignment page!\n"
     ]
    }
   ],
   "source": [
    "submit.submit_mse(compute_mse, \"sshekhar.special@gmail.com\", \"aaU1Xqn8I6JyfR6l\")"
   ]
  },
  {
   "cell_type": "markdown",
   "metadata": {},
   "source": [
    "# Variables\n",
    "\n",
    "The inputs and transformations have no value outside function call. This isn't too comfortable if you want your model to have parameters (e.g. network weights) that are always present, but can change their value over time.\n",
    "\n",
    "Tensorflow solves this with `tf.Variable` objects.\n",
    "* You can assign variable a value at any time in your graph\n",
    "* Unlike placeholders, there's no need to explicitly pass values to variables when `s.run(...)`-ing\n",
    "* You can use variables the same way you use transformations \n",
    " "
   ]
  },
  {
   "cell_type": "code",
   "execution_count": 18,
   "metadata": {
    "collapsed": true
   },
   "outputs": [],
   "source": [
    "# Creating a shared variable\n",
    "shared_vector_1 = tf.Variable(initial_value=np.ones(5),\n",
    "                              name=\"example_variable\")"
   ]
  },
  {
   "cell_type": "code",
   "execution_count": 19,
   "metadata": {},
   "outputs": [
    {
     "name": "stdout",
     "output_type": "stream",
     "text": [
      "Initial value [ 1.  1.  1.  1.  1.]\n"
     ]
    }
   ],
   "source": [
    "# Initialize variable(s) with initial values\n",
    "s.run(tf.global_variables_initializer())\n",
    "\n",
    "# Evaluating shared variable (outside symbolicd graph)\n",
    "print(\"Initial value\", s.run(shared_vector_1))\n",
    "\n",
    "# Within symbolic graph you use them just\n",
    "# as any other inout or transformation, not \"get value\" needed"
   ]
  },
  {
   "cell_type": "code",
   "execution_count": 20,
   "metadata": {},
   "outputs": [
    {
     "name": "stdout",
     "output_type": "stream",
     "text": [
      "New value [ 0.  1.  2.  3.  4.]\n"
     ]
    }
   ],
   "source": [
    "# Setting a new value\n",
    "s.run(shared_vector_1.assign(np.arange(5)))\n",
    "\n",
    "# Getting that new value\n",
    "print(\"New value\", s.run(shared_vector_1))"
   ]
  },
  {
   "cell_type": "markdown",
   "metadata": {},
   "source": [
    "# tf.gradients - why graphs matter\n",
    "* Tensorflow can compute derivatives and gradients automatically using the computation graph\n",
    "* True to its name it can manage matrix derivatives\n",
    "* Gradients are computed as a product of elementary derivatives via the chain rule:\n",
    "\n",
    "$$ {\\partial f(g(x)) \\over \\partial x} = {\\partial f(g(x)) \\over \\partial g(x)}\\cdot {\\partial g(x) \\over \\partial x} $$\n",
    "\n",
    "It can get you the derivative of any graph as long as it knows how to differentiate elementary operations"
   ]
  },
  {
   "cell_type": "code",
   "execution_count": 21,
   "metadata": {
    "collapsed": true
   },
   "outputs": [],
   "source": [
    "my_scalar = tf.placeholder('float32')\n",
    "\n",
    "scalar_squared = my_scalar**2\n",
    "\n",
    "# A derivative of scalar_squared by my_scalar\n",
    "derivative = tf.gradients(scalar_squared, [my_scalar, ])"
   ]
  },
  {
   "cell_type": "code",
   "execution_count": 22,
   "metadata": {},
   "outputs": [
    {
     "data": {
      "text/plain": [
       "[<tf.Tensor 'gradients/pow_1_grad/Reshape:0' shape=<unknown> dtype=float32>]"
      ]
     },
     "execution_count": 22,
     "metadata": {},
     "output_type": "execute_result"
    }
   ],
   "source": [
    "derivative"
   ]
  },
  {
   "cell_type": "code",
   "execution_count": 23,
   "metadata": {},
   "outputs": [
    {
     "data": {
      "image/png": "[encoded data removed]",
      "text/plain": [
       "<matplotlib.figure.Figure at 0x1f5a5015748>"
      ]
     },
     "metadata": {},
     "output_type": "display_data"
    }
   ],
   "source": [
    "import matplotlib.pyplot as plt\n",
    "%matplotlib inline\n",
    "\n",
    "x = np.linspace(-3, 3)\n",
    "x_squared, x_squared_der = s.run([scalar_squared, derivative[0]],\n",
    "                                 {my_scalar:x})\n",
    "\n",
    "plt.plot(x, x_squared,label=\"$x^2$\")\n",
    "plt.plot(x, x_squared_der, label=r\"$\\frac{dx^2}{dx}$\")\n",
    "plt.legend();"
   ]
  },
  {
   "cell_type": "markdown",
   "metadata": {},
   "source": [
    "# Why that rocks"
   ]
  },
  {
   "cell_type": "code",
   "execution_count": 24,
   "metadata": {
    "collapsed": true
   },
   "outputs": [],
   "source": [
    "my_vector = tf.placeholder('float32', [None])\n",
    "# Compute the gradient of the next weird function over my_scalar and my_vector\n",
    "# Warning! Trying to understand the meaning of that function may result in permanent brain damage\n",
    "weird_psychotic_function = tf.reduce_mean(\n",
    "    (my_vector+my_scalar)**(1+tf.nn.moments(my_vector,[0])[1]) + \n",
    "    1./ tf.atan(my_scalar))/(my_scalar**2 + 1) + 0.01*tf.sin(\n",
    "    2*my_scalar**1.5)*(tf.reduce_sum(my_vector)* my_scalar**2\n",
    "                      )*tf.exp((my_scalar-4)**2)/(\n",
    "    1+tf.exp((my_scalar-4)**2))*(1.-(tf.exp(-(my_scalar-4)**2)\n",
    "                                    )/(1+tf.exp(-(my_scalar-4)**2)))**2\n",
    "\n",
    "der_by_scalar = tf.gradients(weird_psychotic_function, my_scalar)\n",
    "der_by_vector = tf.gradients(weird_psychotic_function, my_vector)"
   ]
  },
  {
   "cell_type": "code",
   "execution_count": 25,
   "metadata": {},
   "outputs": [
    {
     "data": {
      "image/png": "[encoded data removed]",
      "text/plain": [
       "<matplotlib.figure.Figure at 0x1f5a57b1a58>"
      ]
     },
     "metadata": {},
     "output_type": "display_data"
    }
   ],
   "source": [
    "# Plotting the derivative\n",
    "scalar_space = np.linspace(1, 7, 100)\n",
    "\n",
    "y = [s.run(weird_psychotic_function, {my_scalar:x, my_vector:[1, 2, 3]})\n",
    "     for x in scalar_space]\n",
    "\n",
    "plt.plot(scalar_space, y, label='function')\n",
    "\n",
    "y_der_by_scalar = [s.run(der_by_scalar,\n",
    "                         {my_scalar:x, my_vector:[1, 2, 3]})\n",
    "                   for x in scalar_space]\n",
    "\n",
    "plt.plot(scalar_space, y_der_by_scalar, label='derivative')\n",
    "plt.grid()\n",
    "plt.legend();"
   ]
  },
  {
   "cell_type": "markdown",
   "metadata": {},
   "source": [
    "# Almost done - optimizers\n",
    "\n",
    "While you can perform gradient descent by hand with automatic grads from above, tensorflow also has some optimization methods implemented for you. Recall momentum & rmsprop?"
   ]
  },
  {
   "cell_type": "code",
   "execution_count": 26,
   "metadata": {
    "collapsed": true
   },
   "outputs": [],
   "source": [
    "y_guess = tf.Variable(np.zeros(2, dtype='float32'))\n",
    "y_true = tf.range(1, 3, dtype='float32')\n",
    "loss = tf.reduce_mean((y_guess - y_true + tf.random_normal([2]))**2) \n",
    "#loss = tf.reduce_mean((y_guess - y_true)**2) \n",
    "optimizer = tf.train.MomentumOptimizer(0.01, 0.5).minimize(\n",
    "    loss, var_list=y_guess)"
   ]
  },
  {
   "cell_type": "code",
   "execution_count": 27,
   "metadata": {},
   "outputs": [
    {
     "data": {
      "image/png": "[encoded data removed]",
      "text/plain": [
       "<matplotlib.figure.Figure at 0x1f6014e74a8>"
      ]
     },
     "metadata": {},
     "output_type": "display_data"
    }
   ],
   "source": [
    "from matplotlib import animation, rc\n",
    "import matplotlib_utils\n",
    "from IPython.display import HTML, display_html\n",
    "\n",
    "fig, ax = plt.subplots()\n",
    "y_true_value = s.run(y_true)\n",
    "level_x = np.arange(0, 2, 0.02)\n",
    "level_y = np.arange(0, 3, 0.02)\n",
    "X, Y = np.meshgrid(level_x, level_y)\n",
    "Z = (X - y_true_value[0])**2 + (Y - y_true_value[1])**2\n",
    "ax.set_xlim(-0.02, 2)\n",
    "ax.set_ylim(-0.02, 3)\n",
    "s.run(tf.global_variables_initializer())\n",
    "ax.scatter(*s.run(y_true), c='red')\n",
    "contour = ax.contour(X, Y, Z, 10)\n",
    "ax.clabel(contour, inline=1, fontsize=10)\n",
    "line, = ax.plot([], [], lw=2)\n",
    "\n",
    "def init():\n",
    "    line.set_data([], [])\n",
    "    return (line,)\n",
    "\n",
    "guesses = [s.run(y_guess)]\n",
    "\n",
    "def animate(i):\n",
    "    s.run(optimizer)\n",
    "    guesses.append(s.run(y_guess))\n",
    "    line.set_data(*zip(*guesses))\n",
    "    return (line,)\n",
    "\n",
    "anim = animation.FuncAnimation(fig, animate, init_func=init,\n",
    "                               frames=400, interval=20, blit=True)"
   ]
  },
  {
   "cell_type": "code",
   "execution_count": 28,
   "metadata": {},
   "outputs": [
    {
     "data": {
      "text/html": [
       "<img src=\"data:image/jpeg;base64,/9j/4AAQSkZJRgABAQAAAQABAAD/2wBDAAIBAQEBAQIBAQECAgICAgQDAgICAgUEBAMEBgUGBgYFBgYGBwkIBgcJBwYGCAsICQoKCgoKBggLDAsKDAkKCgr/2wBDAQICAgICAgUDAwUKBwYHCgoKCgoKCgoKCgoKCgoKCgoKCgoKCgoKCgoKCgoKCgoKCgoKCgoKCgoKCgoKCgoKCgr/wAARCAEgAbADASIAAhEBAxEB/8QAHwAAAQUBAQEBAQEAAAAAAAAAAAECAwQFBgcICQoL/8QAtRAAAgEDAwIEAwUFBAQAAAF9AQIDAAQRBRIhMUEGE1FhByJxFDKBkaEII0KxwRVS0fAkM2JyggkKFhcYGRolJicoKSo0NTY3ODk6Q0RFRkdISUpTVFVWV1hZWmNkZWZnaGlqc3R1dnd4eXqDhIWGh4iJipKTlJWWl5iZmqKjpKWmp6ipqrKztLW2t7i5usLDxMXGx8jJytLT1NXW19jZ2uHi4%2BTl5ufo6erx8vP09fb3%2BPn6/8QAHwEAAwEBAQEBAQEBAQAAAAAAAAECAwQFBgcICQoL/8QAtREAAgECBAQDBAcFBAQAAQJ3AAECAxEEBSExBhJBUQdhcRMiMoEIFEKRobHBCSMzUvAVYnLRChYkNOEl8RcYGRomJygpKjU2Nzg5OkNERUZHSElKU1RVVldYWVpjZGVmZ2hpanN0dXZ3eHl6goOEhYaHiImKkpOUlZaXmJmaoqOkpaanqKmqsrO0tba3uLm6wsPExcbHyMnK0tPU1dbX2Nna4uPk5ebn6Onq8vP09fb3%2BPn6/9oADAMBAAIRAxEAPwD9/KKKKACiiigAooooAKKKKACiiigAooooAKKKKACiiigAooooAKKKKACiiigAooooAKKKKACiiigAooooAKKKKACiiigAooooAKKKKACiiigAooooAKKKKACiiigAooooAKKKKACiiigAooooAKKKKACiiigAorj/AAR%2B0J8A/iZ431n4Z/Dj44eD/EHiTw5JJH4h8P6J4ltbu%2B0t0kMTrcQRSNJAVkBQh1GGG088VZsPjb8GNV%2BKV78DdL%2BLvhi58babZLeaj4Pt9ftn1S1tiEImktA/nJGRJHh2UA7155FAHT0UUUAFFFFABRRRQAUUUUAFFFFABRRRQAUUUUAFFFFABRRRQAUUUUAFFFFABRRRQAUUUUAFFFFABRRRQAUUUUAFFFFABRRRQAUUUUAFFFFABRRRQAUUUUAFFFFABRRRQAUUUUAFFFFAHyM/iK78Sf8ABRXRvjLpWnfFnWdA8OeFNe0jVrLxH8LL/T9N8KS3FxpcStpco06CXVDdy2xaQ%2BZfIiIZkktohiTl/hp4A%2BIMH7T3hD4cXHwo8UW%2Bu%2BFP2lfG3jrxN4xuPDN1HpV34c1HS9bisfL1Joxb3UhGpaTam1SRpU%2BwMzIqwIT9w0UAeIftr%2BO/2nfhZ4W0Xxt8A/H3gPTba58X%2BHPD%2BoWPi/wHe6rI76rrtjpf2iOW21WzEYiS8MnllH3mMDegORZ/4Qf/AIKF/wDR0HwZ/wDDD6t/81FH7eH/ACRDQ/8Ass3w4/8AU10SvZqAPGf%2BEH/4KF/9HQfBn/ww%2Brf/ADUVW1nQP28/DmkXXiDxD%2B1t8ELCwsrd5729vfgdqkUNvEgLNI7t4pCooAJJJAAGa7b4c/HXS/iD8QvEvwzufBeuaBqfh0xyJFrsUMf9p2byTRLeW4jlctCZYJUywVuFJUB1J8J8Y%2BGPjJ4e0nxP8PPjbo1/rGmfETxRL4atPGUvjN57hUvHkNhJDpUcKw2sELMkLmNhKQjTsCqkjrpYRznyzdnpp1afbWzsrv8Ap2xnVSjdK%2B/9feZ3iT47ft2anB4Xj%2BAH7SfwE8d3Piq8vYrJYvhPqlnCBaQ%2BdOvmnxJJ%2B%2B2lQsJUFt24lUVnHcfCjUv27vi94B0/4geHv2mvhBDBerIktrd/ATVlmtZ4pGhngkH/AAlPDxyxyRsOmUNY/hn4NfFz4x/Eq58Y%2BK/Bep/D7WNLsNLun15mtZobjxHavKj3FvFFKfOtpLSWWJywjLR3LJ95cp7n8FfhhcfCjwZJoOp%2BIxq%2BpXuq3mp6vqaWItkuLq5neaQpCGby0Bbaq7mICjLMck6YqnhaVNRg/e9b736rTa1rWflrpNKVWUrvb%2BvmeDeBx/wWR8RfFHWNF8XeKPgJ4e8H2FxPDpniCf4dapc32qbWxHMlnF4gKRRuAW/eThxkZTOcegf8IP8A8FC/%2BjoPgz/4YfVv/mor2aiuOclN3UUvS/6tm0U0tXc8Z/4Qf/goX/0dB8Gf/DD6t/8ANRR/wg//AAUL/wCjoPgz/wCGH1b/AOaivZqw/iF8T/ht8JPDsni/4qfEDRPDWlQ/63Ute1SGzgXjODJKyrn8amMZSdoq7K3PNf8AhB/%2BChf/AEdB8Gf/AAw%2Brf8AzUUf8IP/AMFC/wDo6D4M/wDhh9W/%2BaiuQn/4Kh/BjxncPpn7Lfwu%2BInxlulcx/afAPhOX%2BzEkzgB9SvDBaBf9pZH78HFNHiv/gqv8XOfD3wo%2BFXwe0%2BX5Wl8V65ceJtVjH98QWQgtVb2M7jPr1rs/s/ER/i2h/iaT%2B7WX/kpfJLrodj/AMIP/wAFC/8Ao6D4M/8Ahh9W/wDmorK8XH9tXwBpZ1vx5%2B2j8BNEsl%2B9eav8F9Stoh/wOTxUB%2BtYn/DB3xr%2BIH779or/AIKJfFfXc8PpvgZ7TwnYsvdStjGbgj63BODyTWt4R/4JZ/sB%2BE9UGv3H7NOh%2BItT6vqnjiWfX7h267i%2BoyTHOeeMY7Yo9lgYfHVcv8Mf1k1%2BQWgup4x4q/4KMP4T1I6Kf%2BCo37O2tXwyBZeD/gRrmuzE%2BgTTvEs5J7YxWb/w3d%2B3rr//ACSnwjrXi1H/AOPe8tP2O9a022l9CJdT8W2w2%2B/P0r7m8K%2BCvBvgTTRovgjwlpmjWa/dtNKsI7eIf8BjUD9K06Pa4CPw0pP1lb8Ix/ULw7HwPH8av%2BDgjxA4bwj%2BzN8I7OBz8k3jHRfsJx6lLTxNeMv0IzXffCy1/wCC7ev%2BI7T/AIW94p/ZT8N6I%2B77ZLo/hPxHqd9F8jbdsTalBE3z7QcyjAJPJAB%2BuqKieIpSjaNKK/8AAm/xl%2BgnJdjxn/hB/wDgoX/0dB8Gf/DD6t/81FH/AAg//BQv/o6D4M/%2BGH1b/wCaivZqK5STxn/hB/8AgoX/ANHQfBn/AMMPq3/zUUf8IP8A8FC/%2BjoPgz/4YfVv/mor2aigDxn/AIQf/goX/wBHQfBn/wAMPq3/AM1FH/CD/wDBQv8A6Og%2BDP8A4YfVv/mor2aigDxn/hB/%2BChf/R0HwZ/8MPq3/wA1FH/CD/8ABQvt%2B1B8Gf8Aww%2Brf/NRXs1FAHxJ4k1P/g4i8P7pdK0j9kfX0H3E0%2Bw8RW8jD3E96qg/8CNYI/aJ/wCC63hg%2Bd8Sv2XvBot1/wBZP4J8CQ6wf%2BAxyeMLaRv%2B%2BRX3zRXZHE0bWlRi/wDwJflJ/kVzLsfK/wCz98Sv%2BChPx%2B0zUr9/GnhvwRNpk8cU1j8Qf2YtX06WYspO6EjxY6TKMYLIxAJA71pfEvxF/wAFBvh74t8EeC7f9oL4M6he%2BNvEj6Xbr/wpTVYRaxRWNzeTXJ/4qZt4VLbbs%2BXLSKNwr6Wrzbx/%2BzPoHjv4y6D8dU%2BI/jDSdb8O288NhbafrKyaeVmiaKQtZ3EcsIYqeXRVf5R83XMU5Yd13Jq0bOy1lrZ27PfW/QFy3PBf2g/jh/wUO%2BCWpXmmaH8V/hH4kfQPDMniXxhJD8GdStk0nR42kDT5fxOTNKfJmKQqAWELfMOM61j8cv2qtQ%2BKkHwitv2sPhYdRubsWMV8f2bdeFgdQNoLz7B9q/4SbyhdfZj5piLbtobupA7f4xfsl%2BOviR4rvrnSPitZ2mj%2BLfD%2Bn6N4%2BS70Uve3dvaTSS7raRJUjhMyyPDIrRsoViyYbOfPfEX7On7TEMWv%2BGPDPhextbLw9rXiTxV4Z1yLWVMmtalcQyLpduIwN8BjWRo5pH4JRSgIchOynRwFSkk5JO3e2/e/Z9F01flSUGjsfA3iP9rf4nXWpWXw4/bp/Z71%2BfRrn7Pq8OjfB3ULl7KXn5Jlj8VkxscHAbGcZFdD/wAIP/wUL/6Og%2BDP/hh9W/8Amormv2OfBt2fGEHi3w/4F13w14W8N/DXR/B2lWviLRJtNur%2BS2BleQ286rIqRGQxq7ABmkmKllIY9x8S/wBtr9lT4MfFW3%2BC3xg%2BNmj%2BFfEF3Zx3NnF4jZ7K2uEcsFCXcyrbs%2BVOUEm8ZGQNwzy1cLL27p0U5WV9rvz2vt%2BF/Ilx1sjM/wCEH/4KF/8AR0HwZ/8ADD6t/wDNRR/wg/8AwUL/AOjoPgz/AOGH1b/5qK9f0vVdM1zTodX0XUoLy0uYxJb3VrMskcqHoyspIYH1FT1ybEnjP/CD/wDBQv8A6Og%2BDP8A4YfVv/morz/wGP8AgshqPxS1Xwf8S/FHwE0nw5BbyzaN4v0f4dapfR3mJVVIZbaTxBDLBKUYucB4xsYbz8ufqairjNRTTinf1081r%2BdyWm2tT5n%2BPHiL/gof8FfhxceNbD47/BfXdRe6t7HRtCPwa1e0bUb64lWG3gWQeI5dpaR1BOw4Xcx4U1f%2BIniP9sD4QaPaa98WP22vgJ4ds729js4LvVvgpqkMLXD52pvfxSAM4PJwOO1egfFb4Bar8Qfid4X%2BK2l/E3UrSXwrdm6tvDN9BHc6PdzfZ7iFZpItqypMouWKyJIANqkoxAxwv7TUPxJ8QeJvDS%2BF/hX4sbxdoN5BJ4c1jSngm0C5Nz5dvfx3gkLFIkgknyZYkcqMwsXO0ddGlQqqEL923s12WullbfXd6aGU51Iczt2t/SNm08Jf8FAL%2B1iv7D9qr4KzwTxrJDND8CtVZJEIyGUjxTggg5BFSf8ACD/8FC/%2BjoPgz/4YfVv/AJqK801T4y654d1/S/i3D8S7rQvDdv4u1Gy0/wAH2NrDHp8PhnSxPFf3U0ITfvLwO6uCNoSMJwxDeyfBX48eL/iL4qn8HfED4Wf8Irfv4bste060bWBdTGzuWkQR3CeUn2e4R4yrRgyLyMOSGCzVwVWlDn3X5f52ur20HCtGTscXqXjH9s34S/Gn4VeGvij8W/hh4l8P%2BPPGt3oOp2mgfC7UdIvLcR%2BH9X1OOaK4m1y7QHzdOjRlaE5WRsFSAa%2Bga8Z/ag/5Lf8As4/9lmvv/UK8UV7NXGbBRRRQAUUUUAFFFFABRRRQAUUUUAeM/t4f8kQ0P/ss3w4/9TXRK6fwD%2B0p8OPih8W/EXwg8BwaxqNz4UDR69rUejyrpdteK6q1iLpgEkuV3bmRN20A5IIxXMft4f8AJEND/wCyzfDj/wBTXRK9lREjBEaBQSSQBjk8k1cXTUXzK76a2t/n6aEtSbVmeXfF34PfFDxf8avB3xM%2BGPjHSPDn9h2d7aa7qN1YPeXN/ZTmJjZpDuSNRviWQTOzbHQYjYM2ertPg78Pk8T2Hj3WfD1tq/iPTLVrey8RarbRy3kKMzFgj7QI87iDsC5GAeAK6eirdeq4qN7WVtNNPN7vf/gCVOKbfcKraxrOkeHtKude1/VbaxsbOBpry9vJ1iigjUZZ3diAqgAkknAAqn43HjVvCOor8OJdLTXTasNKfWopHtFmx8plWNldkHcKyk9MjrXiR1vxV%2B09%2ByR43%2BF/xFvtJ0rxvo73fh7xRiMwWA1OAo8MoWRmZLa5ja2mUFmIjudu4suadKj7Rczel0n3V%2Btu36miVzoPiJ%2B13o9na%2BHH/Z/8OWnxMl8S2mo3tidB8RQJbyW1lDHLMsc4DpJcN50Sxw5XfuZiyqjGvG5v2mfG9/4p8afHjw58W9Uks/Dl3pWoaf4Gu1t47C/8LXHkRSuiGISpepdJfRtIXYK6xqTsdVF/wh8G/iV8Yfjjr3xC0nwbrvwzv7WHT9Tlv9W0xHt/%2BEnidre5aFFkC3lrc2UUCSspQELGVfeXCevfD/8AY%2B%2BFWj%2BDdD0j4seFfD/jTWdE1e91W21jUfDsYS3u7q8lu5Ps0UjSm3hWWX93F5j%2BWEjwxKKR6V8DhI2au9L7N66%2Bceyumn1NPcieh%2BOfDd3408Far4T0/wAV6noM%2Bp6dNbQ63ozol3YM6FRPCZEdBIhO5dysMgZB6V4x8Pf%2BCZ37IngzxFH498YeA7r4ieK05bxb8UtVl8QX5bsym7LRwkdvJjjA7CvfaK82nicRRg405NJ720v81r8r28jNSkloMt7eC0gS1tYEjijQLHHGoVVUDAAA6AU%2BiisBBRRXP/Ej4r/C34N%2BG5PGXxd%2BJOgeFdIiz5uqeI9YgsbdOM8yTMqj86ajKTsldjScnZLU6CivlW8/4LDfso%2BJbyXSP2aPDfxG%2BN99C5SWL4Q%2BALzU7VGHHzX8qw2IGeM%2Bfgd%2B1MH7RH/BVv4r/u/hN/wT88HfD21k%2BaDV/jH8Ukll2di1jo0NyVbHO1p1PY4611fUcSvjSj/iaj%2BDd/wOn6liF8aUf8TS/Bu/4H1bRXymP2dP%2BCsHxF/0v4kf8FGfB3gZJOJdL%2BFXwchk2DuFutYubo59/JHrS/8ADrIeJP3nxf8A%2BChH7THixpObm2HxROjWsnqPJ0iC1wv%2BySfrR9Xw8firL5KT/SKD2FCPxVV8lJ/okfVTukal3YKoGSScACuR8S/tBfAXwYzJ4w%2BN3hDSSn3xqXiW1gK/XfIMV4Kn/BFH/gmpdsJvF37Pl14pmzmSfxn441rWWkb1IvLyRfyAFdd4a/4JX/8ABNPwkqjRP2BvhAGT7st18PdPuJB/wOWJm/WjlwC%2B1J/9uxX5yYcuCX2pP5JfnJm1qv8AwUO/YB0Jimt/ty/B6zK/eF18TNKjI/76uBWPN/wVL/4JoQNtf/goJ8Fyf9j4m6W38p67DSv2Nf2QdCULon7Knw2swv3Ra%2BBtPjx/3zCK2If2d/2f7ddkHwM8HIPRPDNoP5R0Xy/tP/yT/IP9h7T/APJf8jzq2/4Kif8ABNS7YJD/AMFBPgrk9A/xQ0pf/QrgVvaN%2B3p%2Bwz4iYJ4f/bP%2BE98W%2B6LP4i6ZLn/vmc10l1%2Bzf%2BzversvfgJ4LmB6iXwtaMP1jrB1j9hz9inxCpTX/wBj74W3wb7wvPh/psuf%2B%2BoTR/wn/wB//wAkD/Yf7/8A5Kdn4X%2BK3wu8blV8F/EnQNXLfdGl6xBcZ%2Bnlsa36%2BdPFH/BIn/gl74vDDVv2B/hVFu6nS/BtrYn8DbIhFYB/4Iv/ALBGknz/AIa%2BD/G3ga5H%2BruvA3xZ8Q6YY/8AdSK%2B8sf98UcmAe05L1in%2BUg5cE9pyXrFP8pH1VRXyp/w7X%2BLPg7/AEr4I/8ABUf9ojQrhf8AVQ%2BJ9f07xPar6ZTU7KWRvxlpP%2BFW/wDBY74Z/wDIm/tY/Bf4oQdfI%2BIPw3vNBuSPT7Rpd1LGD/tfZ8f7NP6tRl8FaPzUo/mmvxD6vRl8NVfNSj%2Baa/E%2BrKK%2BUT%2B2h%2B338Kv%2BTh/%2BCXWv6pYw/LPrvwV8d6f4hVz/AHlsrv7FdAewVzx3OBWt4H/4K8/sF%2BJfEMPgbx58Xbj4Z%2BJZjtPhn4vaBeeF7tX6bAdRjiikbJA/du/JxSeBxVrxjzL%2B61L8m3%2BAPB4m14x5l/dal%2BTb/A%2BmKKraRrGkeINMg1vQdVtr6yuYxJbXdnOssUqHoyupIYe4NWa5Njl2Cs3xZ4N8IePtCn8LeOvCum61plyuLnTtWsY7mCUejRyAq34itKimm4u6A%2Ba9T/4Je/A3wrqVx4o/ZU8aeMPglrM8hmkk%2BHGuNDps8nUedpdwJbKRAf4REv1FV28af8FL/wBnH/kffh14Z%2BPfhuD7%2BseCGXQPEiRjlnfT7l2tLlsdFhmiJ7L2P05RXasfWnpWSqL%2B9q//AAJWl%2BLL5299Txv4E/t6/s0fH/xG/wAPNA8ZT6B40gH%2Bm/D/AMa6fJpGuW7YyR9kuQrSgd3i8xP9qvZK4T48fsxfAD9p3w4nhb48/CjSPEltCd1nLfW%2BLmyf/npb3CFZbd/9uN1b3rxZ/gh%2B3H%2ByT/p/7MnxUf4v%2BDoOW%2BGvxR1TZq9vGP4NP1vblj0Cx3iuoAx5o60eywmI/hS5JdpbfKf/AMkl6haMttD6korxz9nj9uH4M/tA%2BIbn4ZFNU8HfEHTYt%2BsfDfxrZfYNYtVHWRI2JW6h4yJoGkjIIORnFex1y1aNWhPkqKz/AK%2B9eabXmS007M828ffspfBrxh4a8X6XongrSdA1Pxnb7dX13S9JhW4mlDiRZZMrib94qsytkSYw2c1pfCP4P3nw/wBT1nxp4v8AGD%2BIvFHiJoBrGsmyFtGYYA4gt4YQzCKFPMlYKWYlpXJYk129FU8RWdNwcrp/8DrvbRabaLsZ%2BzgpXSPGP2nWL/G39nIlCv8Axee/GD7eCvFHNez14z%2B1B/yW/wDZx/7LNff%2BoV4or2asSwooooAKKKKACiiigAooooA8H8KfGb9oLQ/2z7f9nT4heIPA/iTS9Z8I6r4iWLwr4cvLG%2B8K20F7bQWK30s17cR3QuhNcKjrHakvYzFEkVZDFhfCz9qf4u67%2B2l4q%2BBvxY8TaJ4Z0W38T3Om%2BANAv/hPrdpc%2BJ7aLS7e7Nxa69PdjT7uRXa7LW8EDSCO1ckAIzjovhN%2BxLefBz4heN/iN4c/ay%2BJt3dePtcn1XW4NWtvDs4Wd2QRLHN/ZAuPKt4UW3hieV0ji4Clvnrfvv2WoPEXxy0X41%2BPfjf418RQ%2BFtaudX8I%2BDtSOmR6Tot9NZ3Fk08X2ayiupittd3UaC5uJlUTsQNyoygHGf8FC/i58KPDXg/wZ8KPEfxO8Paf4p8QfGH4ey6D4avdagi1DUkj8Z6M0jW9uziSYKqsWKKQApJxg19D14z%2B3h/yRDQ/wDss3w4/wDU10SvZqACuJ%2BPv7Q/wh/Zj%2BHs3xM%2BM/i%2BHStNSVYLWPY0tzf3L8R21tCgL3EznhY0BY8noCRj/tT/ALUngz9lrwPa65q%2BkXuveItdvl03wX4L0YB9Q8Q6i4%2BS2gXsB955W%2BSNAWbsDwn7O37IvjPU/iDB%2B1r%2B2nqtl4l%2BKLxMNB0i2JfR/Ats/W005G4acjAlvG/eSEYUqnDdlHDwVP21d2h0S3k%2By7JdZPRbK70VKKtd7Hon7NPxQ%2BMXxh8E3Xj34t/A2b4fR3uos3hrQtT1NZ9SOnbE8uW%2BjRdlrOzbyYA7lFKqxDAik0b9lr4UaZ8add%2BP2pW%2Boat4k14QJLJquoNJa2sUKqsUcNqu2BSu3IlZGm5IMhHFejUVi60lOTp%2B6paWV9u2uvT5/gK%2BugUUUViIKKK8D/ag/wCCgPw9%2BAvjS2%2BAvw18Gat8Ufi/qtsJtI%2BF/g0o12kRwBdX87nydMtMlczzkZB%2BRXIIrSlSqVp8sFd/1q%2BiXm7I0p0qlaXLBXf9b9l5s96lligiaaaRURFLO7HAUDqSewr5h8f/APBVT4KXHi%2B9%2BEv7I3gbxL8fvG1lJ5N3pPwwtkn03TZj0W%2B1eVksbQZyCDKzqRylYFp%2BwV8f/wBsCRfFP/BTr4zfbtEmYSW3wI%2BG1/PYeGbZeqx6jdKUutZkGFLB2jt9wOIipr6l%2BHvw4%2BH3wl8IWXw/%2BFvgfSPDmhadF5dho%2Bh6dHaWtuvokUSqq/gK6eXCUPifPLstI/fu/kkvM35cLQ%2BJ877LSP37v5JLzPmVfhD/AMFU/wBpv/SPjP8AtD%2BGfgF4auPveFPhFZLrOvtE3WObWdQj8iGQf3ra1Ps9dF8Nv%2BCS/wCw14F8SR/EHxj8KZviX4uXmTxl8XdXn8T6i75zvVr9pI4T6eSkYHYV9JUVMsbiLcsHyLtHT72tX85CeMr2tB8q7R0/Fav5sisrKy02zi0/TrSK3t4UCQwQRhEjUDAVVHAAHYVLRRXIcoUUUUAFFFFABRRRQAUUUUAFFFFABRRRQAVkeOPh94C%2BJ3h2bwh8SvBGkeIdJuBi40vXNNiu7eX/AHo5VZW/EVr0U03F3Q02ndHytrP/AASG/Zp8M6nP4q/ZK8W%2BOPgHrk0hle4%2BEniaSy0%2BeTqPO0qYS2EqZ6r5C5HccEU38Sf8Faf2Wxu8V%2BEvBv7S3haD/Wah4YCeFfFkcfUu1pM76feMB/DHLbsx6LyBX1rRXWsbWlpVtNf3tX/4FpL8WdKxlWWlW01/e1f36S/FnhP7Ov8AwUc/Zb/aP8Wv8KtJ8U6h4R%2BINumb74ZfETSpNE8QW/BJxaXGDcLgZ8yBpY8fxV7tXnX7R37JX7OH7W/hNPBf7RXwg0fxRaQP5lhPewFLvT5cgiW1uYys1rICB88To3vXgM3w5/4KCfsCj%2B0/gr4s1T9oz4WWozceA/GGoRp400aAcn%2Bz9TfbHqqqMkW93tmIVVWZiafssNX/AIT5ZdpPT5S0%2B6SXqP2eHr/w3yvtJ6fKX/ySXqfYdFeZfsuftf8AwH/bC8GXHi/4KeLXuJtMufsniPw9qlo9nq2g3gzutL6zlAltpVIYYYYbaSpZea9NrlnTnSm4zVmujOacJ05OMlZoKKKKgk85/aM/ZR%2BB37U/h620T4u%2BEBPd6bL5%2Bg%2BIdOuGtNV0W4GCs9ndxESwOCAflO07QGDDivFR8bf2kv2AZ00j9re/vPiP8JUcR2fxk07T/wDia%2BH484VdctIRiWIDj7dAuOMyxqW3V9YUy4t7e7t3tbqBJYpUKSRyKGV1IwQQeCCO1ddHFuEPZVVzQ7Pp5xe8X%2BD6p7lKVlZ7FXw34l8O%2BMdAsvFfhLXbPVNL1G2S40/UdPuVmguYXGVkjdCVdSCCCCQau18keMfhJ8RP%2BCcmvXvxq/ZX8N32v/CC7uXvPH3wcsF8yXQwx3TapoSH7uOXlsRhHG4x7WwB9NfDH4m%2BAfjN4A0n4p/C7xTaa34f1yyS60rVLKTdHPE3cdwQcgqQGVgVIBBFLEYdU4qpTfNB7Pqn2kuj/BrVO2xKNtVsebftQf8AJb/2cf8Ass19/wCoV4or2avGf2oP%2BS3/ALOP/ZZr7/1CvFFezVykhRRRQAUUUUAFFFFABRRRQAUUUUAeM/t4f8kQ0P8A7LN8OP8A1NdEr0L4w/FvwH8B/hdr3xj%2BJ%2BuJp2geHNNlvtUu3GSsaDO1R1Z2OFVRyzMqjkivPf28P%2BSIaH/2Wb4cf%2BprolcH%2B0PbD9q79tnwd%2ByXJ%2B/8GfDmxt/H3xKgHMV9eec0ei6dL2K%2BbFPePGwIYW0WetdOFoxrVff0ik3L0W9vN6Jeb8ioq71L37HHwW8efEXxpcft6ftR6C9t468TWRh8FeFbv5l8DeH3O6KzRTwLyZdslzLgMWYRDaqEH6UooqcRXliKnM9Fsktklsl5L8dW9WxSbkwooorAQUUV84/8FCv2gPih4Q0zwn%2Byr%2BzHqMVt8W/jHqM2l%2BGNSki8xPDenQoH1LXZU6MtrCw2KT888sK4bJFa0aUq9RQj1%2B5Ldt%2BSWppSpSrVFBf8Murfklqc7%2B0B%2B1B8bf2ivjJqv7Ef/BP7V7aw1bRGWH4sfGO5tRc2HgdXGfsVrGfkvNXZDkRE%2BXACGl5O0evfsp/sd/BD9jrwVceFPhLolzLf6tc/bPFPi3XLo3ms%2BI745L3d/dv89xKxLHnCruIRVXitL9l/9mj4W/sjfBXR/gZ8I9Mli0zS0Z7m9vJfNu9UvJDvuL66lPM1xNIWd3PUnAwAAPQK2rV48vsqOkPxk%2B7/AEWy83dm1avHl9lS0h%2BMvN/otl5u7CiiiuQ5QooooAKKKKACiiigAooooAKKKKACiiigAooooAKKKKACiiigAooooAKKKKAPnj9rD9gvTvi/4yg/aV/Z38bP8Mvjhott5ej%2BPtLtw0WqwrgjTtXthhdQsm2gbX/eRYDRspGDb/Y0/bQv/jvquufAT48%2BBk8B/GrwPFGfGfglrkyQXNux2xatpkrYN1p8xHyuPmiY%2BXIAwBb3yvnn9vr9lHxb8ZdA0f4%2B/s53tvo3xu%2BGEkmpfDrW5PljvwR/pGi3hyPMsrxAYnBI2OUkUgoc9tKrGvFUaz/wy/l8n/d7r7O66p9lKrGtFUqr9Jfy%2BT/u%2BXTddU/oaivNv2RP2mPCP7X37PHhv4/eD9PuNPTWrVl1PRb0YudI1CF2hu7GcEAiWCeOSJsgZ2ZHBFek1yThOnNwkrNaM5ZwlTm4yVmtAoooqSQr5H8V2H/Dtb4%2Br8TfDy/Z/gR8Ttfjg8ZaWvFv4J8Q3LhItUiHSKyupCsc68LHKySAgMy19cVg/FD4aeDPjJ8Odc%2BFHxF0WPUdC8RaXNp%2Bq2Uo4lglQowB/hbByGHIIBHIFdWFrqjNxmrwlpJeXdea3T76bNlRdnrseb/tQf8AJbv2cf8Ass19/wCoV4or2avl%2Bf4aePvg3a/sl/Cn4mfEYeLdX8PfFS9sJPERtDC97DF4M8VLA0ilmJlEIjV3z87qzYG7A%2BoKwqRjCbjF3Se/fz%2BYnowoooqBBRRRQAUUUUAFFFFAHIeBf2hPgH8UPGWs/Dr4Z/HDwh4i8Q%2BHXZPEGhaF4ltbu80xlcxstxBFIzwEOCpDgYYY61Ytfjb8Gb74p3PwLsvi54Ym8b2dgL288HRa/btqsFqQpE72gfzljIdPnK7fmXnkV81/DX4r6Z8WP239W%2BKfiz4SfEXwlpPws0nWvC/gXTbj4NeIYf7a%2B1XlmdR1ZroWH2d4JJbSBLWCKRmeNZrlwd8Yh5nwb8P/AIgxftSeHvhvN8KPFEWvaD%2B074k8e614zl8NXSaVN4dvNC1O3tpE1Mx/Zp5Ct7Yaf9lWQzL9mZjGI4VegD3v9vD/AJIhof8A2Wb4cf8Aqa6JXIf8E7ov%2BE28Q/HP9oq/Hm3fjL406rYWl1/e0zRwmlWqD/ZBtp3HvKavf8FC9N%2BK8/g/wZqPhzxp4etfC0Pxh%2BHo17Rr3wxPcaheOfGejeW1veLexx2wVtpYPbTFgCAUyCK//BLGaOL9l/UfDr2yQ3mi/FLxlYalEhY7bhPEF8zZ3EncQ6see/AAwK7aOmBrNdXBfK8n%2BaRa%2BB/I%2Bj6KKK4iAooooAK%2BS/2RbNvjr/wUS/aH/am1lhcW3gi%2B0/4U%2BCN45s4bS2h1HViv/XW9vYlLdSLRRnjA%2BtK%2BVP8Agluy2GoftJeFLv5b/Tv2pfFUt3G3DbLpLO8gcj0MM8eD/s%2B1dmH93DVpLe0V8nLX8kjqoe7h6slvZL5OWv5JH1XRRRXGcoUUUUAFFFFABRRRQAVx2qftE/s/6H40Hw31v45eD7PxEZVjGhXXiW1jvC7HCp5LSB9xyMDGTmuxr4w/am/4IpfAD9oj4qN8U/Cvi298FT6lcT3Hie106z%2B0pqVxI4czJ5smLdyS27aCrZztByW9PK6OVV67jjqsqcbaOMVLXzV729Ovbc8vNq%2BbYegp5fRjVlfVSk46eTta/r077H1l8RPih8OPhH4bk8YfFHx1pPh/S4iA9/rF%2BlvFuJAChnIySSAAOSTVvwf4y8JfEHw1aeMvAniaw1nSL%2BMyWWp6ZdpPBOoJUlHQlWwQQcHggjtX5G/8FM/2Gfgh%2ByR4n8A3F78RPG/iObxHY6s9/f8Ai3X4ZFlNjbxG3tY2jtw8e%2BWaNMsSqqeo5Zed%2BDn/AAWD%2BLn7Pf7JGl/s6/DPQo5tc08t9j8V6jHCE02Fpmb7LHahGFx8vzCeR1OZWUxnYHb6unwQ8fllPE5dVdRylb3o8kVHVN6tvRrXyeiufH1ePFl2a1cNmdJUlCN/dlzyctGloorVPTzWrsftNVHxL4m8O%2BDPD954r8Xa7aaZpen27T3%2BoX9wsUNvEoyzu7EBVA7k1%2BIHxJ/4LC/t4/EPxBpPiGy%2BK8fhptJtBEtp4bsVit7uTcSZ545TIJXIKrtP7sBBtRSWLeVfHz9sL9pf9p%2BeOT45fGDVdchhKmHTyyW9mjKMBxbQKkIfGcuE3HPWuzC%2BGeaTnH6xWhGPW1215LRJ6db2Rx4rxTymEJfV6M5S6XtFPTd6trXpa76H6leBv%2BC7f7Huv%2BK/EWi%2BNLfWtA07Tb5o/D%2Bsmwluk1m3HHm%2BXGnmW7E5IRwfl2ksGJQeHeKP%2BCwHxq8U%2BNPF/wAevg/8XvBOh%2BEdGSKy8P8Awt8b2Ms2o6ycpm5QWse5ZGLHA8/Yo4YELvr5k/4J5fFHWfh/8YdA0/4afAHQ/GPia/1%2BOPUb7xFphu007SzJbrvtzuC2jhnn8y6k3BUaJV2ASCT9xE8OfCrxZr8PiqPQfD%2Bp6pYMHt9SW1gmuLc4IDLJgsh6jIIp5xhci4Xxdvqjmpx%2B1OMtmk/dcfd5raSbvZtwS2DJ8Vn3FOEbWNjFwlf3YSjfmV17ykubkvZxSaukpt7nxn8L/wDgqP8Atr694i0Lw/46/wCCYPjlIdQvIo7/AFTTrDUIlSF3VTMiTWm3CglvmlCnjLoOa%2B7KKK%2BFzHGYPGTjLD4eNG17qMpSv/4E3a3kfe5bgsbgoSjiMTKte1nKMI2/8BSvfzCiiivOPTCiiigAooooAKKKKACiiigD5N/ZgtV%2BAH/BTL46/s16ePK0D4gaFpXxW8PWUf8Aq7a8uJJdN1jHvJcWtrOR/euGP8VfWVfKk7Lqn/Bb20%2Bwnd/Yn7K9yuplf4Te%2BJLc24b3IsbkgfWvquuzGazhJ7uEW/WzX5JHVi9ZQk93GLf3NfkkFFFFcZyhRRRQB4z%2B1B/yW/8AZx/7LNff%2BoV4or2avGf2oP8Akt/7OP8A2Wa%2B/wDUK8UV7NQAUUUUAFFFFABRRRQAUUUUAFFFFAHjP7eH/JEND/7LN8OP/U10SuM/ZOmHwb/bP%2BO37Mmo/uodf1i2%2BJfhMP1ubXUYkttQ2%2B0d/asSP%2BnpT/FXZ/t4f8kQ0P8A7LN8OP8A1NdErl/2/fAnjTwkfCn7b3wb0GfUvFfwhuZ7jVdFs1/e6/4auFVdTsFH8coREuYQc4ltwACXrtwTU5SoSdudWX%2BJO8fx0/7eLhrp3Po6isT4bfEbwX8XvAGj/FH4c%2BIINV0LX9OivtK1C2bKTwSKGVvUHBwQeQQQQCCK2645RlGTi1ZojYKKKKQBXyLfX4/Y/wD%2BCqcur6032fwR%2B0/otpaQ30nEVn410iBo44GPCob3TQoTPLyaftGSwr66rzb9rP8AZh8Bftf/AAM1f4IePrm6skvDFdaNrumyeXe6HqUDiW01C1kHMc8Mqq6kHnBU5VmB6cNVhTm4z%2BGSs/8AP5NJ/eup0YepCE3GfwyVn/n8mk/v7npNFfNP7E37XPjvX/FN9%2Bxf%2B2LBa6N8cvBtkJLpok8qy8baWp2R69pmcB45MDzoV%2Ba3l3IyqNtfS1Z1qM6FTll/wGujXdP%2BtbpZ1aU6M%2BWX/Aa6NeT/AK6oKKKKyMwooooAKKKKACiiigDI8YfD/wADfEGzhsPHPhDTdXitpWltV1CzSU28hRkMkZYExvsdl3LhsMeea/L3/gpp/wAErP2df2cvB15%2B0D4K%2BJE3hHw9DBDYaf4Sh0efUpr3UWWQr/pE94CofaSxxhFQkKx4P6s18b/8FgrP9li88FeDLL9oXwF4n13V9Q1S4s/B8fh3W108RSuIjMZZ5z9nTgR7fMVmJyFAG8j6nhLMcdhM3pU6U5qEn70Y2d1q3pJ26b7pXa1PkuMcswGMyarVrU4OcV7spXVm2ktYpy67apuyeh8H/sef8Ep/i/8AtfeA/CvxM0jWPDuleE7/AFi6t9Y1aO4uH1KGON9rboJAInwUIQxt/wAtPnPy4F/9pL/gil%2B138HNe1O5%2BFmhD4geGLHTzeR6xpjwW90yquXiNk8xleUYbCxeZvG3HzN5Y%2B/P%2BCVvgL9p/wCGPw91vwV8XvC9xpHgW2mgb4aWGtarZ3epwWrBzKkslmqxshOxlJCtln4IINfVtfRZlx1nWAzmpGlKE6absrXVnZq8k78yWjs7J3Vna581lnh/keYZJTlVhOFVpXbdndJp2i1blb95XV2rO6vY/Gv4Df8ABOOf4u%2BMdO8K%2BD/APxW8KSXOntc3Fz8Vfg8h0hZVjDNF9uS4jk2kgqhEYLcHauTj6O/Z9/4Ij654M%2BIV58TfiH%2B0BeeG7%2BG7ibRIfhLNJp4iiUfOHknV3%2BY7flGehyzbgF/QaivExvG%2BdYrmjTlyRas/tPz1kuu3wvTqe7geA8iwnLKpHnlF3T1ivLSMum/xLXoA4GKKKK%2BPPtQooooAKKKKACiiigAooooAKg1XVNM0PTLnW9a1CC0s7OB57u7uZQkcMSKWZ3Y8KoAJJPAAqeviv4/eN9Y/4KffFbU/2HvgPrFzH8HvDepC3/aA%2BImnTFItUZCGbwpp8y/6ySTgXkqHEMRMW7fIVrfD0HWlq7RWrfZf5vZLq/nbehRdaWrtFat9l/n0S6v526H/AIJlQ6l8dvE/xU/4KNa7YzQW/wAZNft7X4ewXURR4/CGlJJbadNtYbozdSPd3hXutxGemK%2Bs6q6FoWi%2BF9Es/DXhzSrew07TrSO1sLG0hEcVvDGoRI0VeFVVAAA4AAFWqWIq%2B3rOaVlsl2S0S%2B5ffcVer7aq5JWXRdktEvuX5hRRRWJiFFFeRftp/tJ3P7NfwdbVPB%2BjrrPjnxLfR6F8OfDSnL6rrVxlYEI7RR8zSsSAsUTkkcVpRpTr1VTgtX/X3dW%2BiTY0m3ZFb9qD/kt/7OP/AGWa%2B/8AUK8UV7NXy9P8KPEnwPtf2S/hf4z%2BIOpeK9b0v4qXo1vxFq15JPNf3sngzxVLPIGkJZY/NdwidEjCIMBRX1DSqRjGbUXdJ79/P5g9GFFFFQIKKKKACiiigAooooAKK8X/AGOfi78cPiVdfFLwd8fr3wpd6z8P/iY3h62vvB%2Bi3Nha3Fq2jaVqSForm6uXMitqDxlw4VxGrBEyRXJfsUftT/F34z/ELxH4I%2BPfibRNH121udYl0n4fn4T634f1BNNtdWktIb%2BO%2B1G7kh1eBofsrPLaQrGr3UeWXeqkA6/9vD/kiGh/9lm%2BHH/qa6JXs1fPH/BQv4ufCjw14P8ABnwo8R/E7w9p/inxB8Yfh7LoPhq91qCLUNSSPxnozSNb27OJJgqqxYopACknGDX0PQB8hX8l5/wS5%2BKd5rwtpX/Zy8b6y1xqAhjLL8NtZuJPnm2j7mlXMjZbHy28zk4VH5%2BuLK9s9Ss4dR067iuLe4iWSCeCQOkiMMqysOCCCCCOCDUetaLo/iTR7rw94h0q2v7C%2Btnt72yvIFlhuInUq8bowIZWUkEEYIOK%2BTm8L/GP/gmPdyX/AMMtA1nx/wDs%2BNK0l34Tsw93rfw%2BUklpLFSS99pq5Ja3yZYB8yb1DLXo%2B7mC1dqv4T%2BfSfrpLupfFfx%2Bv5/8E%2BuqK534U/Fv4afHLwFp/wAUPhD4207xD4f1WHzLHVNMuBJHIO4PdWB4ZGAZSCGAIIroq4JRlCTjJWaI2CiiipA8k/a5/Y2%2BF37YHhHT9N8XXeo6D4m8N3h1DwN4%2B8N3H2fWPDN/jAuLWYDgEACSJsxyr8rqcAjxzwP%2B3T8WP2SPEtj8Cf8AgqRYWOkC5uFs/Cvx80a1MXhbxKScRpfdRot8w%2B9FKfIdg5ikxha%2BvqzvFvhHwp4%2B8M33gvx14Z0/WdH1O2a31LStVs0uLa6iYYaOSOQFXU9wQQa6qWISh7KquaPTuv8AC/zT0fk9Tpp10oezqrmj%2BK9H%2Baej8nqXbW6tb61jvbK5jmhmjDwzROGV1IyGBHBBHIIqSvkKT9gr9oX9kK5k8Qf8EyPjbb6b4fEhln%2BBfxNmuL7wy2Tll066Utd6OTliEQywbmH7oAVp%2BEv%2BCq/w18G%2BIbT4a/t3/C3xB%2Bz34rupRBbv452TeHdRl/6ctdgzZyjpxK0MnPKCqeDc1zUHzrsviXrHf5rmRTwrmr0Hzrt9pesd/mro%2BqqKr6Tq%2Bk6/plvrehanb3tldRLLa3dpOskUyEZDI6khlI5BBwasVx7HJsFFFFABRRRQAV8//wDBUnwNp/jv9gz4jWl3bWrS6doh1K0mubZJTDJbuspZNwOxyium4YIDnBFfQFfAy3n7Vv8AwUN%2BOvxJ/Y8/aA%2BIFp8K/DXhR4JNR8K%2BFrRZNR8Q6dNI5jdbuV2BiAWEu6IFPnIrR8kD28hw8pYxYvnUIUHGcm73spLaK1l200V1dpHg8QYiEcE8HyOc66lCKVrXcX8UnpFddbt2dk2e/wD/AATc/Z/tv2ev2V9A0PTviJrev2eu2lvrdrFrMildNFzawu1tAo%2B5EH3Pt6bnY9SSfeqzvCHhjTPBPhPS/BmieZ9i0jToLK081tz%2BVFGsabjgZOFGTitGvOx2JnjcZUrzd3KTd9OrdtrdLHp4DC08DgqeHgrKEUravZK%2B7fW4UUUVynWFFFFABRRRQAUUUUAFFFc38VvjH8JfgT4OuPiF8afiXoXhPQrUfv8AVvEOqxWdupxnbvlZQWOOFHJ7A04xlJ2irsajKTsldnSVzvxW%2BLnww%2BBfgLUfil8ZPH2k%2BGfDulQmXUNZ1q%2BS3t4V7As5ALE8BRksSAASQK%2BZ5v8Agol8av2nydD/AOCaH7Ml/wCLbGY7F%2BL3xKhuNB8IwD/nrAJEF7qoBBGLeJUPB83HNbHww/4Jp6Tr3j3Tvj3%2B3f8AFi9%2BOPj/AE2b7Ro0euWKWvhrw3L2OmaOhMMbrwPtExlnO0NvU12fVY0dcRLl/urWX3bR/wC3n/26dX1aNLWu%2BXyWsvu2X/bz%2BRxt940/ae/4KoKfD/wiTxJ8HP2errjUvHl5bvY%2BKvHlsesWlwOA%2Bl2Mi9byUCeRWXy0QFmr6u%2BDnwa%2BF37Pnwz0f4OfBfwRYeHPDOg2gttK0jTYtkUKAkk9y7sxLM7Es7MzMSxJPTUVlWxDqRUIrlgtl%2BrfV%2Bb9EkjOrXdSKhFcsV0/Vvq/P7kkFFFFc5gFFFeZftMftafCT9ljw/Z3nju8u9Q1zWpjbeFfBmgWxu9Y1%2B67QWlsvzOc43OcImQWZRV06VStNQgrt9BpNuyOh%2BOHxw%2BGH7OXww1X4wfGDxTDpGhaRDvubmXLPIxOEhiQfNLK7EKkagszEADmvFf2WfhB8TvjT8WT%2B3l%2B1P4Ym0fXJrCSy%2BFngC9IZvBujy43yzDoNSugFMzDmNAsIPDCm/B39mT4tfHX4maX%2B1Z%2B3dbWi6tpExufh58KLG6Fxpfg4kfLczuPlvtT2nBnx5cRJEQ6MPpiu2c6eEpulTd5vSUlsl/LF9f70uuy0u5U2oqy3PGf2oP%2BS3/s4/8AZZr7/wBQrxRXs1eM/tQf8lv/AGcf%2ByzX3/qFeKK9mrzyAooooAKKKKACiiigAooooA8X%2BBP7HmsfAnxp4v8AGtp%2B1l8SvEcnjjxXD4g16x8Q2nh0QPdpa29mQn2TSIHSN7e0tomAfOIQylXZ2bU%2BH/7LUHhP40L8efG3xv8AGvjrXrLQ77RvDv8AwlR0yODRLG8uLa4uobePT7K13mR7KzBkuDNIFt1Acbn3%2BqUUAeM/t4f8kQ0P/ss3w4/9TXRK9mrxn9vD/kiGh/8AZZvhx/6muiVqeGf2wPg1rXxp1H9nnxFe3/hbxhaXckem6R4rsjZHXIVOBc6fIx8u7ibnARi4wdyLitIUqlVNwV7au3Rd/wCvnYmU4xtd2uepUUUVmUfOPxQ/Yc8Q%2BDvHuoftA/sJ%2BP7X4ceNtRm%2B0eIfD11atN4Y8WSdzf2aEGGZun2u32yjLFhJmpfhf/wUE8OW/jO0%2BCH7X/gO6%2BDvxBun8qwsvEF0smja8443aZqYAhuM5X9y5jmBYKYyRmvomsD4mfCv4bfGfwbd/Dz4teBNK8R6Hfptu9K1mxS4gk9DtcEBh1DDBB5BBruji4VYqGJXNbaS%2BJfPaS8pfKSL5k9JG/RXy6v7IH7TX7Lv%2BmfsI/HoXnhyHlfhH8WLmfUNMiQf8s7DUQWvLAADCo5njyeVAFXtC/4KU%2BB/A%2BrW/gr9tb4WeIPgdrs8ohhvPFirceHryQ9rbWbfNswxziYwuM8qKHgZVFfDy9ouy0kvWL1/8B5kHJf4dT6UoqromuaJ4m0m31/w3rFrqFhdxCS1vbG4WWGZD0ZHUlWB9QcVarhaadmQFZ/inwp4W8c%2BH7vwl428NafrGlX8JivtM1WzS4t7iM9UkjkBV19iCK0KKabTugTad0fN3gj/AIJdfs9/BP4p6b8UP2XPFPjX4UQ22rpfax4M8D%2BJ5IvDetgPl4bjS5xLbRqwyubdYXGchga6z9uXxbrvh74QaX4a0HxTe6C3jDxtovhy717T5TFNp1td3aJNKkg/1TGMMgfjaZAQQcV7LWb4u8HeEPiB4bu/Bvj3wrput6Rfx%2BXfaVq9jHc21ymQdskUgKuMgHBB6V0fWak60Z1W5W77/f1%2Bd9ux0fWJzqxnVfNb7/8Ag/O58y/Bvxl8VPDX7H/xV8Qfs/S%2BIPF66T4k1eH4SfbtQl1i6urRFiSNYpryVnuo0m88J5kpyIyu7AAGh4A/a0%2BKcPw48L6Do2paL8UPHfibWL%2Bwtba%2B0ifwaumfYIXe9/tVHa%2Be1kidFjISIktPFiPbl69i8Wfs9eAvEXhefwt4evNZ8JLK1qYbvwXrM2mS232aPy4VjEJCKip8vl7TGwwGU4GPLPGX7Alxp%2Bi6NB%2Bz38YZvCurWdr4gt9a17xBpTazdaqdZ8k3t8zefBsvhJCskUp3xJudTAyEKvTGrhajfPpd31Xl1a6X10td36HRGrhqjfP1d9V5dWvv0636F7w3/wAFGPgtrOj%2BD9Qv/DviSCXxLouj6jrH2bSzcW/hddTne2s11CZSBF5lzFNCMBiDGWcIuDXvzMqqWYgADJJ7V8ga/wDsU%2BPPCfifxB8LfDlloNp8K/FGpeH7vWPFN9r7Jfadpml2sKNpf2cxBXM08Ly/aPNAAvZgYwUXd6B%2B214t8J/Fz9m3xT8Kvhp%2B1Z4A8JatrFgYJtU1jVI50W1J/foEhuI3Vnj3KHBYKTko4ypf1SjXrQjRvyt6uzlZNrVpJ7Xem%2BnmcWYVcJh6fNTkr2bSckr6NpXe2unW27PHP26v25734yeBNQ%2BCf/BPrxZ441zx5Za3El3qfgDw3Lc2ixoWWaCS9ICxr8wcSxbhujVdwVmI96/ZT/Y3%2BGX7P8k/xQjHiTWPHXiLT411/wAUeONa/tHVijBHNq0wwgRWVQQgw2xcltq4%2BY/2FPFH/BVj/hk3wVrfwL%2BEn7Otz4POmNHpOl6vqes6LqckcUrxGaYwW91A8srRtKXAQN5m4gE4r1%2B1/aO/4KtaTIbbxJ/wTM8F6mEjdjd%2BG/j/AA4kYKSFEd1psRGSABlsc84Ar2MylLC05ZbheWMYykpPnjzT1StJ8sdE43UU2lfrY8HKMonj5U82xFWE5zhBxjfljTur%2B6pO/NaVnJq7tpY%2BpqK%2BVf8AhtH/AIKF2J/4nP8AwR48Zso6vpXxe8LXA/APeRt%2BlL/w3v8AtgQjF3/wSD%2BMSt3EPizwvIPzGp18/wDUcR05f/Aof/JH0v1Ov5f%2BBR/%2BSPqmivlb/hvH9sy4%2BXTv%2BCQHxcZuwufGnhaEfmdSNJ/w2L/wUevv%2BQV/wR98QQg/dbWfjX4agH4%2BTNMR%2BVH1Gv15f/A4f/JB9Tr9bf8AgUf/AJI%2BqqK%2BVT8d/wDgrz4n/c%2BH/wDgnr8LPDJPCz%2BKfjxLdAe5Sy0lvyDGj%2Byf%2BC2fij9xe%2BNP2Y/BsT/fl07RPEGuzRj/AGTLNZoT9Vo%2BpyXxTgv%2B3k/yTD6o18U4r/t5P8kz6qor5T/4Yx/4KF%2BM/wBz8V/%2BCtPiG1tZP9fZ/DX4UaLopA9Enu1vZVx67vfFB/4I%2B/s3eLef2hvi58afi2P%2Bff4h/F7VJbXP/XpZyW1vg/3fL2%2B1P2GFj8VW/wDhjJ/nyoPY4aPxVfui3%2BfKj1D45/t8/sT/ALNEc3/C9/2qfAnhm4g%2B/p2o%2BJLf7aT3C2ysZnPsqGvK/wDh6jb/ABRH2X9jH9i/4yfFtpuLLXU8KHw3oMp9TqGtG2BX3jjk9gcjPrvwR/Yd/Y4/Zs8qT4Dfsu%2BA/ClxEPlv9G8L20N03u1wE81z7sxNep0c%2BBp/DBy/xOy%2B6Ov/AJMPnwcPhg5ersvujr%2BJ8mnwT/wV4/aHOfGvxb%2BG/wCz5oM/zHTvAunP4q8QhDwY3vr5IbKFsfxR20uOoPp0Pwr/AOCVH7JHgXxjb/Fb4maLrfxc8c23MXjf4x63J4gvYTnIMEc/%2BjWmD0%2Bzwx46DoK%2BkaKUsbXtywtBdoq33vd/OQni61uWFor%2B6rfe9382IqqqhVAAAwAO1LRRXIcoUV5v4w/a1%2BAPhPQvF%2Bq2vxF03XLvwPZyXHiHQ/D9/Dc30BQqDH5QcYfc6IdxUKzqGK5zXmvjT9qz4reONf8ADvwj%2BG%2BjJ8PPFuo69dadr0XjPTItQOnTR6fJe2sSi3ulidLkIwWdXcDy3XZuZSOqng8RU6WXd6dL%2Bu3k%2BhSjJn0lVLxH4k8O%2BD9Cu/FHi3XrLS9MsIGmvtR1G6SCC3jHV3kchUUdySBXM/AH4qXXxj%2BGNp4x1XR007Uku7qx1fT45CywXdtcSQShSeShaMsp7qy15r4l/wCCf3gD4wfFe8%2BJ/wC1H8QfEHxNs49Va68L%2BB/EMscXh7Q492Y1FhAqx3cig7fOufNJGOAeamFKlGpKNeXLbsrt%2BS6fNu3qCSvqcxqP7afxg/anvJvBn/BOjwDDqWl%2BY0GofGvxjaSw%2BHLLB2ubCL5ZtXmXDAeXtgDBd0pBxXffs3fsU/D/AOAviC8%2BK/ibxFqfj34m6zAI9f8AiT4rKyX86dTb26qPLsbUEnbbwhVAxuLkA17DZWVnptnFp2nWkVvbwRrHBBBGESNFGAqqOAABgAdKlrSpi7QdOjHki9%2Brf%2BKX6K0fJg5aWWgUUUy5ubayt5Ly8uEihiQvLLK4VUUDJJJ4AA71xknjn7UH/Jb/ANnH/ss19/6hXiivZq8K%2BPHirwx43%2BKH7NHivwZ4isdW0u9%2BMd%2B9nqOmXaTwTr/whfikbkkQlWGQRkHtXutNpp2YJphRRRSAKKKKACiiigAooooAKK5n4WfGn4OfHPRLvxN8E/iz4Z8Y6bYalJp19qHhbXrfUILe8jCtJbySQO6pKodC0ZIYB1JHIpPB3xt%2BDPxE8X678Pfh/wDFzwxruv8AhacQ%2BJtD0fX7e6vNIkJYBLqGN2e3YlWAEgU5U%2BhoA4D9vD/kiGh/9lm%2BHH/qa6JXc/Gb4EfCD9oXwfJ4D%2BM/w/07xBpjtvjhvYvnt5O0sMikPDIO0kbKw7GuG/bw/wCSIaH/ANlm%2BHH/AKmuiV7NVQnOnJSi7NdUJpSVmtD5sX4X/tqfsqfvfgZ40/4XF4Lh%2B74I8eamLfXrKP8AuWeqkbLkDtHdrnCgedXYfBv9ub4EfFvxOPhnqd/qHgrxyoHn%2BA/HlidM1QE/88kkOy6U4yHgeRSOc17HXJfGL4DfBn9oLwwfB3xq%2BGmkeJdPBLRQ6pZq7QMf44pPvwv/ALaFWHrXZ9Zo1/48df5o2T%2Ba%2BF/%2BSvzMfZzh/DenZ7fJ7r8UdbRXziv7K37TnwF/f/siftNz32kxf6r4f/F3zdWsVXoI7fUEIvbZQOFDGdR/dxxTx%2B3rrXwmP2H9s39m7xX8OVj4k8VaZCde8PMOgc3lmpktweuJ4Y8DqeCaX1KVTWhJT8lpL/wF6/c5D9so/wARcv5fev1sfRdVdb0PRPEuk3GgeI9HtdQsLuIx3Vle26ywzIequjAqwPoRisf4Z/F74VfGfw%2Bviv4SfEfRPEumtj/TdD1OK6jUn%2BFjGx2t/snBHcV0Vckozpys0018n%2Bhqmmro%2Bbda/wCCZPwh8L6vceL/ANkz4g%2BLfgfrU8hmkHw81MJpFzL2M%2Bk3CyWUij0WND/tVXHin/gqL8CD5Pij4b%2BBPjrosPyjUfCl%2BfDOulR1d7S7aSzlbH8Mc8WfQd/pqiutY%2BtJWrJVF/eV3/4ErS/FmnO%2Bup836T/wVM/Zg0vUofDn7QFv4t%2BDmrzvsjsfiv4Xn0qFz3KXuHs3X3Wc5/Ove/BvjrwR8RdDj8T/AA%2B8ZaVrumzf6nUNG1GK6gf6SRsyn8DV3VdI0rXtOm0fXNMt720uEKXFrdwrJHKp6hlYEMPY14N4x/4JdfsR%2BJdbk8X%2BGPg8PAuvvyuv/DPVrrw5dI/9/OnyRI7dT86tyc9aL5fU3UoP5SX48svxYe4/I%2BgaK%2Baf%2BGPf2wvhxx8BP%2BCj/iua1j%2BZNI%2BK/haw8Rxuf7puYxa3QHbJkY%2BuTS/8J/8A8FWvhzz4p/Z4%2BEXxKtxx5vgrxteaDdEepg1CCaLPt5%2BPcUfU4T/h1Yv1bi//ACZW/EOVPZn0rXyj4i%2BOX7TX7ZfxE8QfCn9j3WrLwX4H8MarLpPif4r31ut1cXV5HgS22mwZ2nbnBmY45BUqQu/zT9ub/gob8bNO%2BCE/wc1T9lb4qfC7xr4vu4dN0zURHp%2BpQzRNKn2mOznsLqV5JzCWVQke7LjaQ2CPQPgF%2B3//AMEvf2ffh1ovwO8K/GFPA9lpUHkw2Hjjw9qOjTtISWkkle%2Bt4g8jMWZmzgknGBgD2MNl9fA4L606PtKkm1BW54pL4ptJtS1fLFNNXTbWiR4WKWIzHMHgqcnGnBJ1HF2k3K/LBNXcVZOUmrO3Kla7Zvaf/wAEof2bdYuYtV%2BOvinx78Ub%2BMh/tPjvxpdXCh/VY4WjUD0U5AHHNdZa/wDBNr9hGzj8uL9lvwmR6y2Bc/mxJrrfBn7W/wCyp8Rgh%2BH/AO0x8P8AXC/3V0nxjZXBPtiOUnPtXf29zb3kC3NpcJLG4ykkbhlYeoI61wV82zy9qlapHyvKK%2BSXIl8kbQyLJ6W2Ghfu4pv5uXM382QaHoei%2BGdGtPDnhzSbaw0%2Bxt0gsrKzhWOKCJAFVERQAqgAAAcACrVFFeU25O7PTSUVZbBRRRSGFFFFABRRRQAUVU1jXtD8O2h1DxBrVpYwL1nvLlYkH4sQK8y8bft4/sS/DkOPG/7XHw306RPvW8/jSy878IxKXP4CtKdGtVdqcW/RN/kmNJvY9Yor5sb/AIKy/sX6wTb/AAu8TeLPH90f9Xa%2BAPh1rOqmT/dkhtTEf%2B%2B6Q/tw/tGeNfl%2BCP8AwTS%2BKl%2BP%2Bfrx3qGl%2BGYPrie5knx/2x3f7NdP9nY1fFDl/wATUf8A0pr8iuSXY%2BlKK%2Bat/wDwVn%2BJP3bf4I/Cyyn7u%2BpeKNRtx9ALK3Lf99A%2B1If2Bviz8Qv3n7SP/BQb4s%2BJlbiXSvCFza%2BFNPkXujJp0YuGXtzcE46k0fVKUP4laK9Lyf4JL8Q5Ut2fSgljaRolkUsoBZQeRnpn8q8W%2BFfiv4gfC749%2BL/g/wDGj4sXniGxvtGg8U%2BFNa1m0tLUQWwkNre2QMEUUYjgf7I4LAuRefMzGuo/Z8/ZU%2BAf7LGk6jo/wK%2BH6aKmsXCT6vcSahcXdzfSopVZJp7mSSWVgCRlmPWtDxJ%2Bzx8EvGfxT0741%2BM/htpuseJ9GtDbaLqurRG5OmoSSxtklLJbu2fmkjVXYABmIAAiM8PCU46uLWjsr30t1dtb312EnFXPmT/hRfibxh4j8KfBe48AateWFn4k1%2BY%2BPLAodNvvCuq/abl/9JUkC6NyLGTy9p3SQh8bWLD0nwZ%2Bxt4t8T3Wr6n%2B0l4z07Ur2XS9EsdG1DwjHPY3EM2mPLLFqpkdmaO7d5FDKpMYWFV%2BYM4P0L06UVrUzGvJWjp%2Be936X7LQbmzn/hd8M/C/wg8E2vgLwgLtrS2kmlefUL17m4uZ5pXmmnllkJaSSSWR3Zj3Y4AGAOgorzz41/tY/s4fs6xqPjL8YtE0S6lx9n0qS582/uM9BFaRBp5SfREPUVyxjWxFS0U5SfbV/gZynGKvJ2PQ6jurq2sbaS9vbiOGGJC8ssrhVRQMliTwAB3r53b9qL9qv44D7L%2Byt%2Byjd6Rp0vEfjf4xyPpFoB2eLTo917cKRyN4gB9R1p1t%2BwPc/Fa5j1v9tn46698UZFcSL4VjH9keGoGByoGn2zZuNp43XMkuR1Aro%2BqRpa15qPkvel9ydl85fIx9s5fw4389l%2BOr%2BSLPin/goD4P8R69c/Dz9kTwBqnxj8TW0hium8MSrFomnSf9PerSf6PH3%2BWMyycY2ZrPg/Y4%2BLH7RNxHr37enxXj1rTt4kh%2BFXgl5rLw7CQcgXUhIuNTIIB/elIsg/usGvoLwx4V8MeCdBtvCvgzw5YaRpllGI7PTtMs0gggT%2B6kaAKo9gKv0/rcaOmGjy/3nrL79o/9uq/94PZOf8R38tl/wfn9x4Z8fvDnh7wh8Uv2Z/DHhPQrPTNNsfjBew2Wn6fbJDBbxjwT4owiIgCqo9AAK9zrxn9qD/kt/wCzj/2Wa%2B/9QrxRXs1cTbbuzfYKKKKQBRRRQAUUUUAFFFFAHyr%2Bwt8UvDUPxZ%2BO2nQ/C/4i6FaeIPjLb33ht9b%2BD3iHSbW6sm8O6JYrNHJdWEUYjFxY3KE5AQRhmwjozcR%2Bwp8P/iDpfxh%2BFPhjVvhR4o0PUfhP8M/GOg/ErXtZ8NXVlZ6nqd/rOlzQta3U0axamty9nd33nW7yrGHHmFJJitfcNFAHzx/wUL034rz%2BD/Bmo%2BHPGnh618LQ/GH4ejXtGvfDE9xqF458Z6N5bW94t7HHbBW2lg9tMWAIBTII2vHKftz/AAy8Y6l4s%2BH8vhf4neF7u7eeHwjqAGi6tp0ZPENtdruguFUf891Rj0396n/bw/5Ihof/AGWb4cf%2BprolezVpSqezeyafRr/hmvkzGvR9tFJScWtmnb/NP0aaPEvBv7fPwK1PX4fAvxYOrfDHxPMdqaB8RrA6aZm6fuLliba4BPAMcrE%2Bgziva4ZobiFbi3lV43UMjo2QwPQgjqKzfGPgjwZ8Q9Bm8K%2BPvCWma3plwMT6dq9jHcwSf7ySAqfyrxaX9gnQ/AEz6l%2Byj8afF3wrn3F10nSr3%2B0dEZz1Ladeb41B/wCmRi9iK2thKuzcH5%2B8vvXvL7mc18wobpVF5e7L7neL%2BTie%2B0EAjBGQeorwEfEP9vr4Qfu/iF8EvDPxR0uLrrHw91T%2BzNSCDqz2F8xjdyOcR3H0Har/AIb/AOChf7Ml9q8Xhb4ieJdR%2BHWuSnA0X4laPNosufRZLgCCTPbZI2e3UUPB12rwXMv7rv8AgtfwGsxwqdqjcH2muX8X7r%2BUix8Sv%2BCf37K3xJ8QN45h%2BHJ8LeKDkp4t8B382iakrn%2BMzWbR%2Baf%2Bugce3Fc6Pgb%2B3p8IRn4K/tZaV4706PiHQPjD4fBnCeg1PThHIW95IJPfNfQOlatpWu6fFq2ianb3lrOm6C5tZlkjkX1VlJBH0qxVRxuJiuWb5kuklzfnqvk0dHsaT96OnmtPy0f3HzuP2xvj/wDDb9z%2B0b%2Bwr41sol4bXfhvdQ%2BJ7JgOshjh8u7jXvgwEj36177oGt2XiXQbLxHpqTrb6haR3Nut1bPDKEdQyh43AZGwRlWAIPBAIq3Ud3DLcWstvBdPA7xsqTxqpaMkYDAMCCR15BHqDWVWpSqW5YKL62bt9zvb72XCM47yv9xwHwU%2BJnxA8c%2BNfiF4X8ZaXoyW/hLxUmmaZfaPJLi4jezgu9sqydJUW4jVip2k5wBjFReA/wBpbw543bW9Tn8D%2BINE0DQ5NQEvi7Wo7VNMuEspniuJUljndkRWjk5lSPhGOMCqnwT%2BB3xO%2BCltr0EnxatPFTa74gu9YubrWPDyWt0880SqFeS2dYiA0cYyIQQg244Bryrxj%2BzD8XJfDnj7XNK%2BFnhLw%2BniDR7G3vfBXgXUjLDrsyagLi9vXaW3tU%2B0SW7SwojL8zM2%2BXDAjrjSwdSrJcyS92zvbsno%2B%2Bu%2Bi6mLlWjFad7/AI2PfvBfxv8AhR8QfCt1428LeN7OTS7G6NvfXV1utRbS/LhZFnCNGSHQjcBuDqRkMCeojkjmjWaGRXR1BVlOQQehBr5B8c2ktr8RNM%2BNP7RHw/vtM8F%2BIvFeoalqHh7UdLF6xkttM%2Bw6bHdwQiVWkmWSeQBtyq0FupbdtA9w/Z3hufgx%2By14eb4v3ttoS6Ropm1BdQuFii0uAuzx27MxwohjZIuT/wAs6jEYSFOClB3u7W3%2BSa3ae%2BnVdRwrNt82iXXb567L/gnzl/wWF0fxP4wf4feB/HdtpuhfCe/16FPEvxHj0lb3UPD960mIdu51%2BywvhVadSfvEHgBJPsfQPDGi2fgnT/CUk7avY22mw2yT6nILl7qNI1UPIzZ8xmABLHqST3r83vih/wAFBv8AhsrWPF/gfUf2mvDHwj%2BEupqun6S/jH4fS391rVvt2y3AeVPs8YMgO3MgdCF4VlzX1d%2Bxr8Vv2PfhH8ENB%2BCngX9t7wr41TRoGit73UfGljJdbCxZYhGsm6ONAdqIclVAGSAK9/NcHicPk9DD1NJ027xjGTXvWfNKXLZTWkWlJrbRSTv83lFeFfOcRi6UW6dVK05NL4W0oxV7uD1lGTinvq4uNu48Z/sQ/sZ/EQu/jr9k/wCG%2BrSP96e%2B8FWMkufUOYtwPuDXA3H/AASN/wCCdrzPc6V%2BzZZaNI5yX8Na7qOlHPt9juIsfhX0LpOt6Lr1qL3Q9Xtb2E9JrS4WRT%2BKkirVfOQxuOpK0asl/wBvS/K/6H1ynK2jPm3/AIdc/AzTePA3xl%2BN3hhR91NC%2BNuuoq/QS3L/AK0f8O5b%2B240f/goF%2B0lZgdB/wALGgucf%2BBVnLn8a%2BkqKr%2B0cd1nf1UX%2BcWPnn3Pm3/hgz4zWnGkf8FNfjsgHT7bPoVwfzbTBmj/AIYm/abTiD/gqJ8WgP8AppoPh5j%2Bf9nV9JUUf2hiu6/8Bh/8gHPL%2Brf5Hzb/AMMR/tKS8Xf/AAVC%2BLrDv5Oi%2BHoz%2BY06j/hgL4pXoxrf/BS/9oGT1FjquiW2f%2B%2BdLOK%2BkqKP7QxfRr/wGH/yAc8v6t/kfNp/4JvQXX/Ib/bs/aSvQfvD/haz2uf/AAEhix%2BGKP8Ah1T%2By7qn/I%2BeJfir4qz97/hIvjP4hlDfUJeIDX0lRR/aOO6VGvSy/KKDnn3PnfR/%2BCTf/BOXR7sX7fsleF9SnH/LbxAk2psfqbuSTP416b4J/Zc/Zm%2BGjI3w5/Z28C6AY/8AVtovhKztSv0MUS13dZfiPxz4J8HxGfxb4w0rS0AyX1HUI4Bj6uwqJ4vG19JVJS8ryf4X/QlzlbVmoAFAVQAAOAKK8i8Xft/fsQeBgw8S/tafD2GRPv28Hiu1nlH/AGzidn/SuYP/AAU5/Zb1j938Mh458czfww%2BC/hrrF9u%2BkgthGfweiOBxs1dU5W9Gl97svxMXXoJ2cl9//Dn0JRXz3/w2R%2B0B4t4%2BEf8AwTt%2BJl4P%2BfjxnqOl%2BH4vria5klx/2zz7Uh1f/gqJ46%2Bew8G/Bn4e20vBGp6tqPiG8hHrthjtISR/vke1V9Rqx%2BOUY%2Bso/kuZi9vB/Cm/RP8AWx9C1S8QeJPDvhPS5Nc8Va9ZaZZQjM15qF0kMSD3dyAPxNeD/wDDIv7TXjjj41f8FCvG0sB5Nh8PNA0/w7GD3HmhJ7jH/bUH0Iq5oH/BND9jbT9Uj8ReMfhZL441ZDltW%2BI2tXevzO394i%2BlkjB/3UAo9jg4fHVv/hi/zlyr8A560to29X/lcXxL/wAFKv2P9L1WTwz4I%2BJE/j7Wk4XRPhro1zr87t/d3WSPGp/3nUVnn9oX9uL4rHyvgf8AsYQ%2BFLKX/U%2BIPjD4mjtCo9Tp1h585Ps7x/h2958N%2BFvDPg7SY9B8IeHLDSrGEYistNs0giT6IgAH4Cr9P2%2BEp/w6V/OTv%2BEeVfiw5Ksvilb0X6u7PnY/siftG/Ff99%2B03%2B2x4kltJPmk8L/C2xTw3YjP3o2uFaW9mTHH%2BuTPp1z6F8Ff2Q/2aP2eJGvPg/8ABrRdIv5c/aNaNubjUJyepku5i88mefvOep9a9Hrzy/8Ajhr%2BifFLTvBHiT4T6jp%2Bj6zrEmlaP4hn1G2b7Vdrby3H/HujF1iZIJdrk7iUOUUYNJ4nF14uCdo9laK%2B5Wv87kSWHoNSlu3a7u/x1t%2BB6HWR408deFfh94bu/FvizVPs9jY7RcPFBJM%2B5mCqixxKzu7FlCoqlmLAAHNeHfEf4s/E3wt8RfF3jOP4hTQad4P8R6TZXPhOe2gNpLpN5Fbo93vEYm8xZp/M3%2BZtVYWTb1J8s8M/D570WPwf%2BE9nDp/jm00KeTxbp0kQiU6zpN4l1p2o3eAMvc3Bz9qwTKpf5mCYF08EmuactP6evbda6rU4q2ZuMnGnDXVa9XdpWS31T0unZH2H4F8feE/iT4ej8UeDNXF3ZvI0bExPHJFIpw8UkbgPFIp4KOAw7ivNPid%2B1Z4i0bxxf/CX4H/s8eLvHnibTmRL6RLX%2BzNHsndFkUTajdBYydjq2IVlODjGeK2fgJ4f8aW/ifxt448UeCLvwzB4j1m3ubLRb69t5pA0drHFLcMbeSRF8x14G7cVjQsqsSo9KrB%2Byo1Xdcy9fztvbbRo6l9YxGHVpcj6u2ttVopbX0eqdux4D8Ybjx5dePP2Ybn4n6Zpdnr7/F69OqWuiXck9rFL/wAIV4p%2BWOSREZhjHJUc5r36vGf2oP8Akt/7OP8A2Wa%2B/wDUK8UV7NWDd3c64rlile4UUUUhhRRRQAUUUUAFFFFABRRRQB4z%2B3h/yRDQ/wDss3w4/wDU10SpvGVr%2B2x4I8V6h4j%2BH%2Bp%2BDfHfh%2B4unmt/DGsQyaPqFnETxBDdx%2BbFLgfxSxqT3b1h/bw/5Ihof/ZZvhx/6muiV7JHLFKCYpFbaxU7TnBHUfWrhPkeyfqc2KwyxMUueUGtU4uz/JpryaaPEYf26fA/hGVdO/aN%2BGvi74Y3W4I114k0gz6Y7%2BiahaebAR7uyfTpXrXg3x54H%2BImjp4h8AeMdL1ywk%2B5e6RqEdzEf%2BBxsRWpNDFcRNBPEro6lXR1yGB6gg9RXkvjH9hr9mfxXrD%2BKtL%2BH/8Awi2utkrr/ge%2Bm0a8Vv7xe0ZA5/3w1XehLdOP4r8bP8WcXJnOH%2BGUKq/vL2cvvjzQfzjE9cqj4j8L%2BGfGOkS6B4u8O2Oq2E4xNZalaJPDIP8AaRwVP4ivHP8AhSH7Xfw4%2Bb4RftXReIrOP/U6L8UfDyXZI9DfWZgm/Flf8e/pPwk1T4v6r4Ykf42%2BENE0fWYbx4lj8PavJeWtzCFUrMrSRRvHliw2MCRtBzzgKUORc0ZJ/en925tQxk68/ZVqE4O3VKUX/wBvRbXyaV%2Bx5lqn/BOv9m221CXXfhLZ%2BIPhnqczbnvvhr4juNJUn3t0Y2zD2aIjt0qEfB/9vL4cfN8Nf2rPD3jS1T5YtM%2BJvhARyhfQ3umtESf9poW9810f7QOu%2BIbbxNoul/C7x5rCeLpLmBbXw7pyxS2kts08fnz3yPG3lwrFv/eb42yAqFmIUz/Gr4zeNfAfxH8LeB/CtroccetQzvcXviJbuO3aRZIY4rZLiGN0ilcyMQJByEOBmuqNfEySUmpX/mSe3m9fxOGq8uoSqNRcOVxV4O13LbSL5b33TWl03ukcqP2kP2t/APy/GD9h3UtSt4uJdW%2BGXiq01VX/ANpbW5%2BzTgewDH%2BVS2n/AAUf/ZYs7lNM%2BJfiPXfAF%2B7BTY/EHwnfaQVPvLPEIT%2BDmu1T9oXRD8RU8Bt4S1VrY6yNGl8RReS1kmp/Zhc/ZuZBKf3Zx5gj2b/kJDcVq%2BCfi38LfjC99ovhTVhqa28KSXEdxps0cVxBIWVJojMipcQsUcCSMuh2nmpbotXnSt5xbX4PmRtTrSc%2BSjiU3dq04pu67NcjfrZrfV2LXgX4v/Cb4oW4u/hp8T/D3iGIruEmh61BdjHrmJ2roXdIkMkjhVUZZmOAB615D8T/ANir9ibxXa3Hif4jfs/%2BCbYW0bT3etJpsWnyxKoyZHuYfLdQBzuLcV8GfC34K%2BJf2yf2sfGHwG%2BE3xU8aab%2Bz/pi3EF1qvgzxrqt3YXi7V8qB5NSmkikkZj8yxRsuFONy4krvwGVUMwjUqqo4Qpq8nJXsr2srPWT6R0b9LnNmGcYvLZ06UqSqVKj5YqMmm3a92pJ2iustUvWx9b/ABE/by8UfEfxtefBD9gb4e2/xD8SWTiLWfFt3OY/Degsf%2Be1yh/0hxyfLiOTzgsVK1Dof/BO3Wvi1rdt44/b0%2BOep/E%2B9t5RNaeErZDp/h2xk7bbWIgzlem9yNw4ZWq58Of2Nf2l/wBnzwnbeBf2fP2vdMtNCsAfsWieIvhbp8kfPUtLZPauzHqXYMxPJJNbn2//AIKY%2BHPnufDnwU8VxJ1Wz1LVdHmkHsJI7lAf%2BBYreWMp4dcmWyjBfzN/vH/284%2B76Qtb%2BZ7nPHC1cS%2BfNKc5v%2BRK9Jf9uxledu9Tmv8AyrY9s0bw54e8OaFb%2BF/D%2Bg2djplpAILXTrO1SKCGIDARY1AVVA4wBiuT8Wfsxfs1%2BPSx8c/s9%2BB9ZL/fOq%2BE7O4J/GSM15//AMNFftmaLz4q/wCCfd9cxr/rJvC3xJ0u8/EJcfZnP0xR/wANzahp3yeLP2LfjnprL/rGh8ER6gg%2BhsriYkfhXkxoYyMuaD17qav%2BEkz2fr2BUeWV0vOEl/7Y0Grf8EwP2AdWuTe/8MteGbGY9JdEil09h9DavHj8Kq/8Oyv2ZdO58Gan8RvDZHQ6D8Wteh2/QNdsB%2BAq3/w8f/ZnsPk8Xr458Ov3j174Ya3Bt%2BpFoyj8TUlr/wAFL/2EbqYW8v7S3h%2B0kP8Ayz1PzrRh9RNGpFdHPnaW8397/wDkjP63k1/jgvml%2BfKUB/wT6tLXjRf2zv2grID7oHxQlucf%2BBUUv60f8MP/ABOsf%2BQH/wAFEPjhF6C%2Bv9Husf8AfenCuv039uf9i3VwPsP7Wfw4JPRZPGllGx/B5Qa27L9p/wDZq1IA6d%2B0N4Gnz08nxbZtn8pah4jM18Sfzgv1pm0amXS%2BGcflNf8AyZ5t/wAMj/tP2/Gnf8FJ/iKoHT7T4W8PzfzsRSf8Ms/tjLxF/wAFMvGAH%2B38O/Djf%2B2deuQfG34MXQza/F3wxIP%2Bmev2x/k9WF%2BK3wucZX4k6AfprEH/AMVUfW8Yt4r/AMAj/wDIGijhXtL/AMm/%2B2PG/wDhlb9sGTi4/wCCmPjMj/pn8P8Aw6n8rOl/4Y//AGkLrjVP%2BCkfxOcHr9k0HQYP5WBxXsT/ABa%2BFcQzJ8TPD6j1bWYB/wCz1Uufjv8AA%2BzBN58ZfCkQHUyeIrZf5vQsVjXtFf8AgEf/AJAGsKt5f%2BTf/bHk/wDwwr44vPm1v/goN8eZz3W11/S7VT/3604EfnR/w7x8NXnHiD9rD4%2B6mp%2B9HP8AFu9hRvqtt5Qr0S%2B/au/Zb0sE6l%2B0n4AtwOvn%2BMbFMfnLWFqn7fX7EWkAm7/az%2BHrY6i28WWsx/8AIbtVqvmkvhT%2BUF%2BlMylVy2HxVI/Oa/8AkzmP%2BHX37H998/ivw34t8QSH7z%2BIPiXrt1u%2BqtebD/3zWp4c/wCCa/7A3heUTad%2ByP4FncHO/VNBjvmJ9SbgPk1Xf/gpp%2BwwXMdh%2B0BYaiwONuj6Xe3p/AQQvmm/8PE/gdqXHgjwL8UfExP3f7C%2BFGsvu%2BhktkFW5Z01ZuaXq1%2BsTJYvJ09JwfpZ/kpHqfhH4K/BvwAVPgP4S%2BGdEKfcOkaDb2236eWgxXTV4Mf21PHWsfuvBH7Cfxnv5D9xtU0aw0uI/Vrq8Vh%2BK0f8Lw/bu13914e/YX0vSN/3bjxV8VLRdnu0dlBcZ%2BgauaWGxMnebXzkv/kmzVZhhErQUn6Qm/8A21I95orwb%2Bzf%2BCmHiX91d%2BKPgt4Tifq9jpmqaxPGPYySWyE/VaT/AIZe/ak8UfuviT/wUD8VeQ337fwT4R0vR8f7sjx3Eo/77NT9Xpr4qsV6Xf5L9R/XKsvgoTfryx/OV/wPeq4T4iftQ/s3fCQSD4mfHjwjocked1tqPiC3jmJ9BGX3sfYAmuA/4dz/AAC1z5/ix4k%2BIHj5/wDqc/iHqVzH/wB%2BY5Y4ce2zHtXd/Dv9lP8AZm%2BEpjk%2BGvwB8H6LNHjbdWHh63SfI7mXZvY%2B5Jo5cHHeUpeiS/Nv8g58yntCMfWTk/uikvxODP8AwUT%2BDHiP5Pgr4B%2BIvxHboJPBngS8e3z2zc3KwwY/2vMx70f8Lb/b6%2BIX7v4f/sp%2BGPBVu3MepfEfxoLiTb6m001JMH2My%2BhxXvdFHtqEfgpr/t5t/h7qD6ti6n8Ss/SKUfxfMzhvgj4W%2BPvh6z1C6%2BPvxZ0XxLe3ssb2dtoHhk6dbaaoDb40LTSyTBiQdzkEbenNZXxO%2BFfxf8Y/G7w3468K%2BMvDmm6L4f0u4SOPUtGnvLoXc8iLLLGFnijU/Z0Mau2/b5sh2HIrsPHPxU%2BGPwxs/wC0PiR8RdD0CDbuEus6tDaqR7GRhmvL5/2/fgVrErWfwi03xb8RblGKtF4E8J3V5ED73LKluB7mTFKDrym6kY7%2BWnbyX4mGJxOV4WCoV6yTTTs53m7O%2By5pv/wE7vWPgL8N/FmsaX4n8d6MNb1fSJfMtNUvMRyHEglRXWAIkqI6qyq6sFKg9ea7PAHQda8PPxN/bk%2BIfyeAf2c/Dfgi1blNR%2BIfib7VOVPf7Hp4bDezTr74pD%2Byz8Z/H/7z49ftf%2BK76FuW0XwLbReHrPB6ozxb7mRe3Mwz%2BlKUG0vaTWnz/BafiZwx7k39Uw05X6tKmn6udpP/AMAZ6H8Uvj78E/gnZ/bfiz8U9D0AFd0cOo6iiTS/9c4s75D7KpNedf8ADX3jb4jfuP2aP2ZfFniiJ/8AVeIfEkX9gaSVPSRZLtfPmX2jhOfX07D4Xfsnfs5fBm8/tb4efCHR7TUi259ZuYDdX7t3LXU5eYn6vXodTzUI7Jv10/Bf5l%2BxzjEfxKsaS7QXNL/wOei%2BUDwT40SeN5fiD%2BzHJ8SLXS4Ndb4v3p1OLRJpJLRJf%2BEK8U5ETSqrsuMcsAa97rxn9qD/AJLf%2Bzj/ANlmvv8A1CvFFezVk3d3PUhHkgo3bt1e79dtfkFFFFIoKKKKACiiigAooooA%2BXfgN%2B2N8bfiD8YvC0njbTPCy%2BA/iZrXi3TPBVnpem3Meq6XJot3LFDJeXD3LxXS3dvbXMxWOGA27eXHmfJkFz4NftT/ABd8TftheK/gp8XvE%2BieG9Mt/Euoaf4D8N3vwn1uxuvEVpb2sM32m2124u/sF643Ts8FvAXVIWJ2hWauj8HfsGeBvAXxLk%2BJHhf4u%2BN4Ba3ur3fhXQJJ9Ok0/wAMT6rfJe6m9kj2RkJuJFdf9IefyY55Ut/IVsDfl/Zag1r456P8bvH3xv8AGviVfDGr3mqeDvCeqnTI9L0K8ubSeyeaH7LZQ3MzLa3V1Cn2meYKtw%2BBu2soBxn/AAUL%2BLnwo8NeD/Bnwo8R/E7w9p/inxB8Yfh7LoPhq91qCLUNSSPxnozSNb27OJJgqqxYopACknGDXa%2BL/wBkP4U%2BIfEt7468L3/iHwf4g1Cdpr7WvB%2BvzWUlxIeS0keWhlJPXfGc96y/28P%2BSIaH/wBlm%2BHH/qa6JXTeIvit8T/B%2Bu3cWs/APVdR0aOdhaar4a1CG7lePPys9sxjkU46hd/41lWr06CTne3km/vsnb7jzcypZdVpRWMp80U9HyyfK7b3j70dOqa7XOc/4Qv9tD4fc%2BEvi94Y8d2a9LPxlo7afdhR/CLqyyjN7tD9fWj/AIah8feDv3fxq/Za8Z6Mq/f1Lw2keu2Sr3YtanzlH%2B9CPeui0T9qP4HaverpF/42j0TUDw2neJbaTTplPpi4VAT9Ca720vLTULZLywuo54ZBmOWFwysPUEcGlSxFCur05qXo0/8Agr5pHBQwsKivl%2BNlp0co1Yr1U/fX/gaOA8DftYfs3/Ea6/s7wr8Y9Ee93bTpt9dfY7sH0MFwEkz/AMBr0JWVlDKQQRkEd6wPHPwo%2BGHxNtfsfxF%2BHeia7Htwo1bS4rgqP9kupK/UV80ftKad%2Bxr%2ByDawQ6P8RfHHhHxHqJA0Twb8NPElzLf6nIThFisHaSLaTwCyKmeM54rsw%2BHxGKqqlRi5SfRa/wBebdkurRWIxubZbRdXEqlOC3ak6b%2B6anG76JS12SZ9AeI/hB8G9M8WX3xn1S3Gh6tLCo1TX7TWprDz0RNifaDHIiShV4XzQwXgjBAr5%2B%2BPv7Yv7Dk16PBvjj9vGB9CT7MNX8P6Vax6ol15Dq4H2m2t5JFZnjXzAHbI3ABSc1554b/YH/a7/ah0DRfjP%2B1t8T7XWbxHkm0r4V%2BOrOf7Bp0G4iFrg6fNbh7nZyxMZ64YEgqPcvAeh/F34BadHomi/sGeBns4OTcfDTWrW3z6sILuGBi3/AyT7168oZXgZ8lacqs1o%2BTlUU%2BylJScrbXUUuza1fh1MfjMTF/7I6FOet5U6k3K%2Brco0ZJK/VSV39panzxrf7ZPhnx3e63o3wS8LePfHely6nrGseG77wd8P76aebUrxGFu1x56wrHFbs7YZSzOFQkKVO7ufA3hD/gpN8Ste0vWvh38P/C3wT0XSvCFt4dsZvE9yNX1FLWMq3mx28aiIOdqDZMBtCYGck17t/w2f4M0X/kpXwk%2BI/hJV/1lxrHgq4mgU/8AXWzEyEe%2Ba2fC37YH7LnjKQQaF8evC5mJwLa81aO1mz6eXMUfPtiolmmFp2%2Br4dK3Wbc/wtGP4P0M8Nhsqq1062Y6/wAqaovdtL37VLJt2St6vc%2BVfHv7JHj%2BLx7Mf2uNC%2BOHx30O1lhlhn0fxDp9vo92%2B1XY/wBjxXEUke2QlcbiGCA4IOK908K/to/s0/C7w/aeEdU%2BGvjH4babYxCKz07VvhlqFnbQIOymCB4lX3DY969203VdL1m1W/0fUre7gf7s1tMsiH6FSRViufE5nXxsVGu20tknyxXpFJRX3fM97DZLPBVJVcHWS5usoKba6Ln51NpdLyZ5d4W/bb/ZB8ZMI9B/aU8GNIxwsF1r8FvKT6bJmVs/hXoWheKfDHiiD7V4a8R2GoxYz5ljeJMuPqhIql4p%2BGHw18cBl8a/DzQ9YDDDDVNJhuM/XzFNee67%2BwJ%2Bxh4gn%2B1XX7NvhW1lzkS6TpwsWB9QbYoR%2BFcf%2Bzvuvuf%2BR2XzyHSlP51IP8po9eorxIfsBfA3TOfA/iX4heGD2/4R/wCJerxAfQPcOB9MYo/4Y68U6d8/hf8AbR%2BMdmw%2B6t5r9nfIPqLm0dj/AN9UclF7T%2B9P9Gw%2BtZtH4sKn/hqx/wDboxZ7bUV3ZWd/Ebe%2BtIpoz1SWMMPyNeL/APDP37Wdh8ujft66s6D7q6x8PtJuMfUxpET%2BdH/Csf28tM5sP2rfBWp46DU/hg8WfqYb/wDpR7KHSa/H/IP7RxS%2BLCVPl7N/lUR6TqXwc%2BEWsknV/hX4buiev2nQ7d8/99IaxL39lH9lvUiTqP7NngC4J6%2Bd4OsXz%2BcVcj/Zf/BRm0%2BWLxp8F74Do03h3VoGP/fN24/Sjz/%2BCjkP/ML%2BCVx/2/6xDn/yE9aL2sdqq/8AAmYyxtCXx4Sp/wCCov8A9uZuT/sQfsYXJ3TfskfDMk9SPAung/pDVdv2DP2JXOT%2ByT8Ofw8HWY/lHWX/AG3/AMFF4f8AWfDj4NTf9cvF2qr/AOhWNH/CU/8ABQxeD8G/hO3uvjjUB/Owq%2BfFL/l9/wCTv/MzeIy574Of/gg1Y/2D/wBiaM5X9kn4cH/e8GWR/nHVu2/Yp/Y3szutf2TPhpGR/EvgTTwfz8muf/4Sf/goc/C/B/4Sp7v431E/ysKP7W/4KMzfc8B/BaD/AK6eKdWc/pZD%2BdDninvW/wDJ3/mCxGXrbBz/APBCO0sf2Yf2atLIOm/s8%2BBrfHTyPCVmmPyird0z4Y/DbRCDo3w90O0I6G10mGPH/fKivLt3/BR2b/lj8Erb/trrE%2BP/AB1KP7B/4KJ3/wAtz8TPg9p4P8Vn4R1Odh/38vVB/KoaqS%2BKov8AwJs1jjaMfgwlT/wXFf8At6PbEjSJBHGgVQMBVGAKWvEv%2BFR/tzah81/%2B2P4asM9U0v4Vo2Po01638qP%2BGcP2mdT%2BTxL%2B3t4qMZ6po3g/RrP8mNvIw/M1n7KHWa/H/I1/tDFv4cJU%2Bbpr85s9torxI/sW3F7z4k/a7%2BNWoFvvKvjZLJT9BZwRED8apxfsLfsjavqNzpniiXW/E9/ZoHvotf8AiNql5JEpzgyRtdbQDg8svOKOSgt5/cv82S8Xmrslh4xv/NVj/wC2wZ674m%2BJvw38FKzeMviDoekhfvHU9Whgx9d7CvPNe/b7/Y08PXP2K4/aL8NXs%2BcCDRLw6i5PoFtRISfYVB8Lv2WP2DL6wOs/Cz4KfDjVoIJzEb%2B00u0v9ki9V81g5DDPrnmvV9B8K%2BF/Ctt9j8L%2BG7DTYcY8qws0hX8kAFH%2Bzru/uX%2BYoTznEQUoSoqL2a55/jeMWeQf8N1eCdZ5%2BG/wP%2BK/i1G/1dxo/wAPbqCFv%2B2t6IEH4mj/AIXl%2B2H4o%2BXwR%2BxWNLik/wBVe%2BNvHtnbbR6tDaLcv%2BGQa9urN8ReMfCHhC3%2B1%2BLPFWm6XFjPm6jfRwLj6uQKPaUltD723/kOeFx3LzV8W4r%2B7GnBffLnf4nkX/CIf8FA/GI2a98Zvhx4KiPOPDHhW51Wce3mXk0afj5X4Gj/AIYy1TxR%2B8%2BMX7VfxR8Tl/8Aj4srbX00azlHp5OnRwnHsXNbet/tu/spaJd/2ePjbpGpXPa28PmTU5GPoFtFkJql/wANa3%2Bv/u/hn%2BzP8TNeZ/8AUXM/h9dLtn9/NvpIjj3Cmj29RfDZeiX/AAWeVKrw05ctTEOs%2B3tJ1f8AyWndfgaHgf8AYo/ZQ%2BHd5/anhr4DeHmvt27%2B0tUs/t91u9fPujJJn33V6fDDDbxLBbxKiIoVERcBQOgAHSvIP%2BEu/bg8W/8AIB%2BDngbwhF/z08TeJ5tSmx6%2BVZxImfbzfxpP%2BFEftGeLf%2BSk/td6pawPzJYeBvDtrpgX2E8wnlx7gis5TnN3k2/U7MPi6NCHJgMFO3lCNKP3zcX/AOStnrmoalp2kWcmo6rfw2tvEuZZ7iUIiD1LEgCvMfEP7an7Nmiai2haX8R4vEWpjhdK8IWk2rTs393FosgU/wC8RVKw/Yu/ZoXWYpPHGjXXjHVwpkWbxxr9xqsrgcFvKnkaPH0QCu6%2BHOsfCgrc%2BFPhhFpdrHpzYmsdMshbxoNxXcqhVVl3Ky7lyMgjNZOpBSUW1dmjrZ1Wkot0qN9rt1JfcvZwv95wf/C9P2i/HQ2fCb9la/sIJOI9W%2BImsRaYiH1NtD505HsVQ/yoPwW/aa%2BIHz/Fj9pptFtZP9Zo/wAN9HSyx7fbLkyzH6qE/wAPVdf8TeG/CtkdS8UeILHTbYdbi/u0hQf8CcgVwlz%2B1Z8KLud7HwH/AGx4vukbDQeE9GmvFH1lAEIHuXrKrisNQdqk0n2vr92r/Awr4XCU3bMMXKbf2eZQT9IUrSf3yOQ%2BOHhaz8FfEf8AZl8KafqF/dw2PxgvY0udUvnubiT/AIorxQd0kshLOxz1Jr3ivC/j3q17rvxQ/Zo1jUdAutLnuPjDfPJp96yGWA/8IV4o%2BVtjMufoTXulbxkpRTXU9%2BkqcaUVTVo2Vt9rab67d9e4UUUUzQKKKKACiiigAooooAKKKKAPGf28P%2BSIaH/2Wb4cf%2BprolepWXjfwdqOqzaFY%2BKdPlvreUxT2aXaeajg4IKZz%2BleW/t4f8kQ0P8A7LN8OP8A1NdEr03xL8O/AnjAH/hKPCGnXzEf624tFLj6PjcPwNcWN/tFQTwfI3fVT5kmvJwu079WmvImXN0Lut%2BHtA8TWTaZ4j0Oz1C2b71vfWySofqrAivN/Fn7Of7Png7S77xvDNL4Egs4WuL7WdC1%2BXS4reNRlncK4hCgdSy4rauvg5ofh23e98LeP9f8OxRDdsh1cy2ye5juN6gfTFfM3/BQS5%2BJvxK1LwV%2BwdpPxI0nxFe/EjXYp9ctVs/s1za6PZsLqWSZoXYRo5jUK2wb9jAdDXLl3ts0zSGEx2DtpzSnCVOryQSk3O16dVK0Wl7usmo3u9PHzn6vRwcq9agpyWkb21k2lGKlpJXbWzuld9DEh%2BOP7WP7TGuH4b/sD/Ejxbd%2BEZp3ttU%2BLHjbw/ax2dpGpIc2MpjWW7k4252ZUkH5R%2B8X0T9nP9lPxf8AskahdeLU%2BBWnfEDxZqLM2r/EGXxeZtZvCfvZN7GoQEcFY3UHAzuPNe2aR4v8X%2BCNKt9Du/gFc2mn2UKw2sXhe6t7iGKNRhVSL92yqABgBeBxVqP4/fDWFxBr9/e6LMTgxa3pc9tj/gTpt/WrxHF2Rww/1XDV5YSn1VTnhKX%2BOVaCUvKKmoLWye5wYfIKUKka9evJ1Vs/sw8oQnzperbl/eWxkf8ADTuhaTx4%2B%2BF/jfw4F4kuL7w1JcQKf%2Butr5q49%2BK1fDn7SPwE8VuIdF%2BLmgtMTgW9xqCQS59PLlKt%2BldJovjLwj4kAPh7xTp19np9jvUk/wDQSaZ4j8CeCPGEZi8W%2BDtK1RSMFdR0%2BOcY/wCBqaqjPEVqanQrQqR72Vv/AAKEmj11TzSC9yrCa/vRa/GEv0NG1u7W9gW6srmOaJxlZInDKfoR1rK8U/Dr4feOIzD418CaNrCEYK6ppcVwCPTEimuRuv2SvgC87Xmk%2BBTo87HIn0DUriwZT6gQSKPzFR/8M867pX7zwf8AtEePbBl%2B5He6nDqEQ/4DcxOx/wC%2Bq19rjo/FST/wyX5SS/MmpPHShy1sPGa8pxa%2B6cUUdS/YY/ZQv7tr%2B0%2BDVhpVw3/Lfw9cz6aw%2BhtZI8VB/wAMfWOmf8iX%2B0R8VtDVf9VBB4ze7iT2CXiTDHtWr/whH7UOjfPpHx10HV8dItd8H%2BXn6vbTp%2Biij%2B2v2ttI%2Be98B%2BBdaUdtO166s3b8JYHA/wC%2BjR9ca%2BOlNfK//pMn%2BR5bwGTJ3lgJQfeMLfjRqR/Iyv8AhSX7Uek/L4b/AGzbqeNfuReIvAthdceheDyGP1zR/Zn7eekfu7bxZ8KdbRej3mj6jYSN9THNMo/Ba1f%2BFwfGvTvm8Qfst6xsH3n0fxFYXf5K0kbH8qX/AIaVt7b/AJDXwO%2BI9iB95n8KNOq/jbvIKP7Qwq%2BJtesZL/20Xssph8NetT/7frL/ANLhNGT/AMJ9%2B2xovy6p%2Bzp4M1nHV9F%2BIEkGfoLizH6kUf8AC/P2itP%2BbX/2J/EQQdX0nxZpV1%2BQM0bH8hWt/wANb/A2D5dX1zVdNfump%2BGL%2BDH1LQY/WrNj%2B1d%2BzdqB2w/Gnw%2Bh9Lm/WHH18zGKazDAN29rH/wJL82hqeGvanmbXlKVF/8ApUIswP8AhrLV7X5dY/ZN%2BLlsR94xeG7a5X8DBcuT%2BVL/AMNneCbf/kNfCD4p6cO5vPhtqOB%2BKRsD%2BFdvY/G74Mang6d8XfDFxnp5Ov27fyeta08Z%2BD7/AAbHxXps2enlX0bZ/I1vGvQn8M0/Rp/kzqhDHz/h4%2BMv%2B4dJ/wDpNRHmX/DdP7OsPGp6t4lsW7reeAdYTH4/ZSKP%2BG9P2UF/1/xTaH/r50C/i/8AQ4BXrsU8M674JlceqMDTq1NvYZ70xFN/9wn%2BlU8f/wCG%2Bv2Ph9/466Un/XWGdf5xilH7fP7HB/5uC0D8ZXH/ALLXr9IVU9QD9aA9jn//AD%2Bpf%2BC5/wDy08hP7fX7HA6ftA6CfZZJD/JaP%2BG%2BP2Qj/q/jdp0n/XK0uH/9BjNevgAdBRQHsc//AOf1L/wXP/5aeQf8N5/srN/qPiRdT/8AXt4Y1KX/ANAtzR/w3J8Bp/8AkEL4v1A9hZfD3V2z/wB9Wwr1%2Bori%2BsrQZuryKIeskgX%2BdDaW4OhnttcTTXpSf61Tm/hZ8WtG%2BLenXWqaJ4Y8R6bFazCMjxH4euNPaXIzujWdVLr7jjPFcR8crK98L/Erw18RNI1KSGEa3aQ6x5fia6M8iSN5KwRWBJt2RtwLsNr/ACkgE816TefEDwHp%2Bft/jbSIMdfO1KJcfm1cnq/xD/ZUg8Sx%2BNNb8a%2BAP7agQJDqk%2BoWRu0UZwqyE7wBk8A9z61jLEYeHxTS9Wl%2BpnjYxq4KNKrXhzpp8zahs73SUn6WvZ63aueZ/He80M%2BPtb16%2BubSXxBJaaRL8MbpHQzTslx/pNvZt3dmOHVDkpJ83yjihqHgy917xRd/D/RvD06eKXuvEkWv3n2Bo0uLK7iZ45HmICukjeUiDJKnIAAU49Vb9q79mTSlWytfixorCNdscOnlpsD0AiU/pSf8NYfCO6%2BXQIvEurt2XTPB2oSZ%2BhMIB/OsXmOA/wCfsfk0/wArni1sHlNavKc8XD3ndpWb11eqcnzfZUrXUPdaZR%2BAMGsaj4x1PxQ/hLU9FtX8PaXZ3sGp6bLama/ijKybVkVfMEahY/NXKMMbGYDNb/xT%2BFHjb4i6tbTaJ8fPE3hTT4rby7iw8O29mGnfcT5nnTQSOpwQMDjjOM5rO/4aL1C8%2BXQv2efiNdsfumbQo7VT9TcTIR%2BVJ/wtH9oTUP8AkD/swyQK33ZNZ8YWkOPcrCJT%2BFL6/hn8Lb9Iyf8A7aj06UstWC%2BrSlOor3bjGoru9/sKNl5KVnrfcyv%2BGLfAOqfL48%2BKXxJ8TofvQ6z4%2BvViP/ALZolH4AVo%2BHv2Lf2UvDE/2vT/AICeG5585%2B0apYC9kz677je2ffOak%2B0fte6p80Wm/DzRkboJrm9vpF/BVhUn8aP%2BFa/tGar82uftJQ2St9%2BHQPCFvHgege4eU/jgUfW5y%2BCjN/JR/wDSpfoZwwOUqXNTy9yfeUI3%2B%2BrObO/0Tw74f8NWgsPDmhWenwDpDZWqRIPwUAVb3Lu2bhuIyBnnFea/8M02Wo/8jf8AGX4gayrf6yGbxM9tE/tstViGK3/h/wDA34V/C7Upta8D%2BEktL25g8m4vZLmWeaSPcG2tJK7MRkA9e1XCpi5zXNTUV5yu/uSt%2BJ7FCpjXJR9jGEP8abS8lGNvxRS%2BNfiD4geENKj8T%2BELxnhtyPO0%2BHRDcmQjLM0sgfMUQRTkqhbOME5C1X%2BJ%2BheIfEt7pHjHw7e213pVtZyS3Vpc%2BJbmwtpAdjpL%2B5BEuMcCTC4Jyau/FaXTdT1DSPB2o32rxQ6lO0d2NLvBCDE2IwJTgsVZmC4Ug5PXFZfjjT9DsDd6YPBmj3uk%2BHrCDUbmw1WzNwSuHQGHexWLYkTc7TkrjjOa8bHZjhaTr80m1FxTSu3GXK57duROUt9IvRvQwxGHq1alRX918ttXpJa6WT07rrbY4%2B91O11zXofGcWgXcGua/daNqnhiWSzYzLFJGIZoC4BCiJPMMiEgEEtgluem%2BHHg7xXo/inQtFu/DNzaW/he0v7R9ULx%2BRd2zy/6LHHhizfuwrNlQEZCOc1cufEHjCJ57nT9bkKXeoXul22nrbxgWrpG5gaPC7twCEncWB4wAKvfC2/hOpfYtH1WW7srrRba/cTXbTmGZ/lI3OSw3bWJUngg9M152EzPD1sxhS5ZXk93yrq2nZXb5nFttNOKspLtjQy2MaynKV3dPRJX1vrvvLW6s0rI6DxN8PfAnjW8s9Q8YeDtM1WbTt5sX1GySbyC%2B3cV3g4J2rz7CtSGG00%2B1EMEUcEMS4VEUKqKPYcAVjeMNC8ReI5oLPQPiDPoqRqxvEs7SGSWUHG3DSA%2BXjnkA5z2xzjp8BfA924m8W3WreIZAchtc1WWZR/2zBWP/wAdr2q%2BKzFYmUcHhVLvOVSEYt27RjOo7bapa%2BWp63IoVHKMEm93or%2Bul38zi/2mLi3u/jR%2Bzfc2s6Sxv8Zb4pJGwZWH/CFeKOhHWvaa8S/aO0zTdG%2BMH7Nul6RYQ2ttB8ZL5Ybe3iCIg/4QrxRwFHAr22vXp%2B09mvaW5rK9r2v1tfW19r69zZXCiiirAKKKKACiiigAooooA5jw58bfgx4x%2BIOs/CTwj8XfDGq%2BK/DiK/iHwzpuv20%2BoaWrY2tcWyOZIAdy4LqM5HrRYfG34Mar8Ur34G6X8XfDFz4202yW81Hwfb6/bPqlrbEIRNJaB/OSMiSPDsoB3rzyK%2BOP2ePD3jPwX8bPAGgeIPhB4107U/hp4q%2BI954%2B8THwPqLWmo2%2Bs6y72n2a6SApqP2x57W9ZbdpfIW0Y3HktGBV34aeAPiDB%2B094Q%2BHFx8KPFFvrvhT9pXxt468TeMbjwzdR6Vd%2BHNR0vW4rHy9SaMW91IRqWk2ptUkaVPsDMyKsCEgHvf7eH/JEND/AOyzfDj/ANTXRK7vxZ4x%2BFfwimn8VfEL4oad4ft51Yudf8QR29vkkEsomcAHjt615D/wUf8A2cv2qf2nvgqfhp%2Bzn8VPCmgKdb0PUbq21i0vrS%2BmksNastQDWur20sn9nOFtTtY2N0S%2BBlM71%2BYf2Nf2MPiDrfgu9%2BIfir9if4RfELXYfGfiDSb/AMRfET466tdXFzNpurXemyEwt4bkhKeZaOUYjcyMpYKSVXanl2SYtRr46T5qUrwUY3lezTkpOUYrR2aale/wvpw4rEZrTqKnhKcWpJ3lKVktdFyqLk299LLzPfz%2B1D4s/bM8aXXg39k7TtSHg7STs1P4k3ekf6BdXG/Y1tZiQgzHB5lCkIoYjG5HPVfBv9j34K/s2WM/iTR9Qk1zxbqga58ReKfFt01zqetOByvmEqUUMPlRBjIXIYjNXtE139vDw1pNvoHhz9kf4H6fYWkQitLKy%2BOGqRQwoOioi%2BFgqgegGKsv41/4KDyYEn7LnwYbByM/HfVjg%2Bv/ACK1fO5zkdLGfXY4KbpwxUYRlGbc/wCG%2BZNtKMn71pezu6ScUuTlcr9GCpyhKlVxlqlWm200rKPMrNRi20tNOb43d3l0O/utRvRcGe1u5oFtZ7aCCzDAhywDuHzkk7GwOeMZq3pet3%2Bo3sAvfJe11BJmhhEXKKjYUk5IYMvJ4GCRXlj6/wDt7Sakurv%2Byj8FTcqMLN/wvfVsjjH/AEK/XBIz71FpWq/t96ROZ7f9mL4POQmyJZfj3qxEKZzsQf8ACLcD/AeleDQyPiHDZjGarXpud3aTSsno3Fpp80L0/ZwtCNoy1smerKvhp0muXW3b9fXW71ex6lrXwg%2BFviFjJq/w/wBJlc9ZlskST/vpQG/Ws3/hRPhay/5FnxF4j0Ydk03xBPs/74kZ1/DFeMTfHL9uzxl8Zdb%2BB1t%2BzR8M7HVfDHhjSddury1%2BP2qRwSwalcalbwop/wCEYJZ1bSpywZQAJI8FiWC9fpniz/gohYWMdnP%2Bzd8H7pkBzPP8eNV3vyTzjwsB7dO1epPJcuxOZTjVy6Cja6qpwTk9LpqCp1IvfVyadvNHDKjQcFK6v2s1%2BOx3H/Cvvihp3Gh/G%2B7dB92PV9Gt7j82QRt%2BtG39oXT%2BBJ4Q1NV7stzaO35eYM1x3/Ccf8FC/wDo1/4M/wDh%2BNW/%2BZej/hOP%2BChf/Rr/AMGf/D8at/8AMvXR/q9hofwK1an/AIa02vun7RGXs10b%2B/8A4c7H/hOPi9Zf8hL4JGYD7z6Z4hgkz7hZRGaP%2BFyyW3Gr/CfxjakfeZdHE6j8YXeuO/4Tj/goX/0a/wDBn/w/Grf/ADL1y%2BrftHft26P8Z9A%2BB1x%2Byh8JG1TxF4X1fXbO5T466p5EcGnXOm28yOT4Y3B2bVICoCkEJJkqQoY/svNqf8LHz/7fp0Z/kqbDln0l%2BR61/wANBfC6L5dT1a9sG7rqGjXUOPqWjx%2BtbXhT4ieBvHLSp4Q8U2eoNCoaZLaYMyA9CR1FeZ/8Jx/wUL/6Nf8Agz/4fjVv/mXpieL/APgoFFK08f7K/wAFldx8zr8ddVBP1P8Awi1b4ajntOuvb16c4dbU5Rl8mqko/ehpVE9Wvu/4J6H498bal4dkgsfD%2Bnx3VwZoDd%2BaG2QwySiME4/iYkhR7c8VX%2BIGv29pdS2MXhXT9Raz017/AFD7fgBLdSRhfkbc52tgHA45Iryjxdpf7bHjWaK71v8AZD%2BCD3Mc0T/a/wDheGqeayxuGCFv%2BEWztOMEehOMVB4ktf8Agop4gO8fAH4NwNc6e1hqbj426oTc2zEnaP8AimB5bAMwDDONx46V5uOpcRc2JdN3UnHk5WtElO6tJWTb5HJ3kmlK1tE4nGck09V/Xc9AvdL%2BEmr6xHFe/BPw7c6bJdx2kl/c6bbs6zPHvA8sxkFR0ZiwIPQEc1R8P/Cb9nTxpqH2S6/Z28O2aXFsbmwmOjW6/aYt20thFBQ5wdp7EGvI/jB8Rv27vg7ptp408Sfsz/CK40O88caHYJpdj8a9UMwvdUv7XSIGMjeG1HkLNeJK4C7wFYqWwEPW%2BE0/4KK%2BHru1udQ/Z7%2BC959h0xbK0CfG3VoiF3ZZ2P8AwjLbmOF6YHB4545qGFzuWNj7enFw5tbxpWtqn05lG1nD7XNfm0OWWBwtSXv0oP1jD/5E9Bl/ZC/Zplbf/wAKd0hD6wxtH/6Cwpv/AAyD%2BzsP9V8PPL/646tdp/6DKK4vxdd/8FEPFkUEcPwM%2BGOkmBmO/SP2gdUjMmccNu8KNkDHH1NYf/COf8FJo/8AUeC/BA/66ftAXrfz8H16GKpTo13Gll0akf5lKjG//bskmrbbkSynLL6YaH/gMV%2BiPUP%2BGRfgEPueFNQT/rn4o1Ff5XFH/DI3wJ7eH9YH08Yap/8AJNeX/wBjf8FOl/1fhD4ej/e%2BOd23/uoVy/xt%2BIX/AAUm%2BA/wY8XfHHxT4E8B3Wl%2BDPDF/rupWth8abhria3tLaS4kSMP4TVS5WMhQzKMkZIHNc/NX/6FT/8AA6H/AMkif7Ky3/oGj90T3j/hkb4Ed/Durn6%2BL9UP/tzR/wAMifADo/g%2B9f8A66eJdQb%2Bc9eX/wBlf8FQz97wn8Ofw%2BNt0P8A3UaP7E/4KbN/rfB/w/P%2B58dbtf8A3UKOau9sqf8A4HQ/%2BSYf2Vlv/QNH7onqH/DIH7OTf634aQy/9d9QuZP/AEKU1Lb/ALJH7NNqcx/BjQ2P/TW13/8AoRNeVf8ACM/8FIX5n8EeCm9k/aFvk/l4Qo/4RH/goW/%2Bv%2BGvg1/%2B7ldWT/0DwoKF9c6ZVH51KH/yDGsqy1bYWH/gMP8A5Fns1n%2Bzl%2Bz9YYNt8EfCgI6M3h%2B3Y/mUJrXsfhh8NNLx/Znw80K3x08jSIUx%2BS14F/wg37dcn/H78EPAtz6if9qDxB/TwyK5f4I3v7Tfx7%2BDHhD45aD%2Bx38NBpvjPwvp%2Bu6db6z%2B0nr7TxW93bR3EaSqvh5kDhZAGClhkHBI5raMs5X8PAUo%2BtWP/tlBm8MJh6fwUYL0UV%2BUD66RNK0eHai29rGOwCov9KoXvxA8B6bn%2B0fG2kW%2BOvn6lEmPzavn%2BD4bftRwP5g/Ya%2BBEjetx8dNXlP/AI/4YNadlo37X%2BnYNh%2Bw5%2Bz7CR3j%2BMeoA/n/AMIrWynxPLanQh6zqy/KEDpXtErJJfeerXnx6%2BDVk2yT4kaVIewt7kSk/TZnNQH4%2BeALjjRota1Juy6f4eu5M/Q%2BWAfzrh7PxN%2B3zp67bD9k/wCCUA9Ifjnqq/y8LVP/AMJx/wAFC/8Ao1/4M/8Ah%2BNW/wDmXo%2Br8S1PixFKP%2BGlKX4zqr8UFqvdfd/wTsf%2BFua1efJonwZ8WTsehurWG1U/jLKCPyo/4Sz426h8mn/COwss9JNU8RqcfVYY3/nXk3gH9o79u34ieK/G/hDR/wBlD4SQ3HgPxRFoWqyXPx11QJPPJpWn6mHi2%2BGCSnk6jCpLBTvRxjADN1H/AAnH/BQv/o1/4M/%2BH41b/wCZej%2ByszqfxcfU/wC3IUof%2B2Tf4hySe8vyOx/s/wDaB1L5LrxL4W0pT3s9NnunH4ySID%2BVa/hHw14w0a7lu/FPxEuNZ8yPakDadDbxxHOdwCDcT25Y15v/AMJx/wAFC/8Ao1/4M/8Ah%2BNW/wDmXo/4Tj/goX/0a/8ABn/w/Grf/MvW%2BHyXD0K0a0qtWcltz1Ztf%2BArlg/nFjUEne7%2B873xv8MY/F92%2BpQ%2BJdRs52FvhLe42xfuZC6khQGyCzYwwwTmovH/AIRGoWD3Zv5/ttxE1myWu1Fu4CWbyZAwfKhS%2BWGGwW5GTXn174p/4KI3dzbzx/s5fCCBYHLPFD8eNU2zezZ8Kk4%2BmOtcsPjp%2B234y%2BMeufAm5/ZJ%2BEral4a8NaRr9zcv8edWW3eDUbjU7aFEK%2BGdxdW0ycuCoXEkeCxLBfNzPJFi8NjIYeio1KlkpOeknb40lzcrjzTSvHV9HFtPanChGpGU9V1Wv%2Ba/Doe16l4Xsrqew8ZaDpc63cpjeY2ki52mLbvCSny94XC7yN2OM1WmTSYpJ9R00GwItJJgYwImkuYpCJTIEwJH4AOc8HjrXnun6l%2B37p2lJo1v%2BzN8IFgRQqrF8fdXjI5JyCnhYEE555qxHrv7ekVpHY/8MnfBR4om3RrL8dtWfDZzuy3hcnOe/WvDr8LZpjo875acpxg5q7cVVUVFuHJyyim25yd1zSjDTRnZCvhqL91Xs3bRJ2fe99enpc9CtBs1uPdblNRk1LzC4jOXt3RWbLd1HKjngqBXTarZ3V/YvaWmpy2kjYxcQqpZRnnG4Ecjj8a8h/4Tj/goV/0a/wDBn/w/Grf/ADL0f8Jx/wAFC/8Ao1/4M/8Ah%2BNW/wDmXr6PKuHqeXYWvh5zco1Xra8HZppu8ZJ875nzTTi3aPVXMa2JdWcZJWa%2Bf59PIh/aRtGsfjF%2BzbaPdzXBj%2BMl8DNOwLv/AMUV4o5JAAz%2BFe2V8r/E/wAS/tW6v%2B0n%2Bzpa/Gv4L/D3w/o4%2BLmotHfeFvidfaxcmf8A4QvxNtQwT6LZKEILEv5pIIA2HJK/VFe9SpQo0o04Kyiklu9ErLVtt%2Brbfdt6nO25O7CiiitBBRRRQAUUUUAFFFFABVHxR4hsPCPhrUfFeqh/sumWM13c%2BUuW8uNC7YHc4U1eqO7tLW/tZbG9t0mhmjaOaKVQyupGCpB4II4xQB83/sa/tS/Hz4qeMNG8LfH/AE3wkj%2BN/hPp3xA8Lr4T0%2B5t/wCy7e4lCT6ZdNPcTC6khE1ptu4xAspeX9xFsG7ybR/%2BCjvxx8F/C/TfilrPgLwPPpfxV%2BF%2Bq%2BOvhNoujabc2T6bN/a2lW1va6rM1xKt01w2v2U8s8MUGxo7obHJRz79%2Bz/%2Bwv4Q/Zz1i11rwn8ZfHWqSaZoun6BoaeILnTrgaZ4fsjMYNGhK2SMbfdMC00he8k8iEPcsIwKwdJ/4JjfAi00bW/Cuu%2BM/GWtaJe%2BEtR8MeFtH1HUrZIvBuk3t1Fdz22lvb20cyfv7azdJLiSeSP7Dbqjqse0gHYfsu/Fz4r%2BMfEvxD%2BEHxyufD194n%2BHniW1sZdb8K6RPp9jqlpdaba30My2s9zcyW7qZ5YWQzyg%2BQJAQJNieu15/wDAH9nzSPgLZ%2BILk%2BPvEPi7XvFmuDVvE3ivxW1p9u1G4W1gtIty2Vvb28SR29tBGqRQovyFiC7u7egUAFfLvwG/bG%2BNvxB%2BMXhaTxtpnhZfAfxM1rxbpngqz0vTbmPVdLk0W7lihkvLh7l4rpbu3trmYrHDAbdvLjzPkyD6irwzwd%2BwZ4G8BfEuT4keF/i743gFre6vd%2BFdAkn06TT/AAxPqt8l7qb2SPZGQm4kV1/0h5/JjnlS38hWwACne/FT45eA/wBtrw18KvEOo%2BAde0zx9a6rKumeH/C91a634f0iwjaS3vr28e8lju4DPMtttFvb7Zr5dhcLJnJ/4Jr/ALU/xd/aW%2BF9vqH7RfibRLT4gHwpomreI/h7a/CfW/CV94YmvLd2lili1e7nkvYfOSWGO6iWOJmtZcFzkJ1fw/8A2MT8Ov2hPGf7Q%2Bl/tMfES8vPHV2Zda0PUotCltI4kgeG1tIJv7MF7DbWu9pIYRc7BI8juJGmmMm38GP2Y7X4U/EHWfi34p%2BMvjDx/wCK9a0e00iTXvGP9mxyW2n20s80dtDDptnaQIvm3Ers5jMjkqGcqiKoB6fRRRQB8u/tNftjfG34WfFPxi3w80zws3g34TaL4b1Px3bazptzNqOsR6pfXEU0djNHcxx2jW1rB54aSK4E8koixCFMhm/a4/aW%2BJnwS/aY8J6SuseHvCXgRvClxda78QfEXwi1nX7e0ma/tovscmoWN3b2%2BjxSRjzDNdEx5iQnhMV23xn/AGIfhx8bvikfiZrnjnxVpcWo2ukWvi/w1o11app3imDS72S9sYr5ZbeSYLHNNLn7PLAZY5DFMZYwqCX44fsjT/tB%2BDm%2BGnxD/aT%2BITeFdS0WTSfF/huxTRYbfxPaSMwmiu5BpvnxCSJ2hf7JLb5jOOG%2BagDz7/hsb42f8NA%2BZ/Znhb/hWP8Awuf/AIVp9g/s25/tv7Z/Zvn/ANqfavtPkeV9t/0X7L9n3eX%2B/wDPz%2B5r6irxn/hiH4cf8L//AOF7f8Jz4q%2Bz/wDCV/8ACVf8IJ9qtf7E/t/%2Bzf7N/tTZ9n%2B0%2Bb9m/wCWX2j7P5v7/wAnzv3lezUAFfPX7Xn7RP7QHgP4gQ/C79nC18Irqen/AA113xvrNx4y025uobqCwktYodNhFvcQGCS4e4kzdMZVgEA/cTGTC/QteR/tL/seeD/2mdQsta1H4k%2BL/COoW/h/U/D99qPg28tYZtS0XUPIN5p8xubacLHI1tCwliEdxEUJimj3vuAOT/aq%2BPnj2x/Yn/4a8%2BEfibwlpOl2HgtfF0uleNfAVzrsmoYt47uytreO31Ky8q5M3lqhJkJkaPaFIBPKal%2B1X%2B1F8Pv2lfB3wi%2BPfiLwh4N0K48AeDbnX9e/4VFr1/pus%2BKNRvtStNR0u11iO/Wy0kK9rYrbpd%2BdIzahGMykqp9q8b/sw%2BC/iF8PNI%2BFPibxJrL%2BHtE8W6VrljpduLSGLZpt5DeWWnMEtxus45beA7T%2B8ZYgryMC26p8a/2WoPj34ms7jxv8b/GsfhS3vtOvbz4d2B0yPSdRnsrpLqF5pTZNfY86KFnjjukjcRBWUqzq4B6pRRRQB4v/AMFBfi78cP2fv2R/Gnx6%2BAV74Uj1jwToV3rl1B4w0W5vra7tLW2lme3RLa6tmSV2RFEhcqgLEo/Aq7%2B2D8T/ABd4E8HeGvAvw90zQbjXviP4ytfCmmy%2BKtNkvdMtVnhnuLma5to5YWuUW0tbnEIlj8xyil1BJGp%2B1j%2BzjZftafAjXv2fda%2BKvinwjpPieylsdcv/AAgunfa7mylieKa23X9pdRojq/LIiyAqNrrznO8b/srSfEr4dWfgjx5%2B0F461HU9J1PTtU0DxiYtHg1PSdSsySt5CINOS2Z5AzrIksEkLJI6eWFYqQD59vf2/P2q/E3hrUNA%2BHOheAIPF3w/8NeNNX%2BIEmr6TeyWGrvoGsSaZFa2CJdo9kL4wTT%2BdK9z9kGxDFcklh9i%2BBfF2m/EDwRo3j3Ro5Us9b0q3v7RJlw6xzRLIoYDocMM%2B9eC%2BI/%2BCZPwh1zwPp3gzTfix8QNFmj0nX9L8T69pGp2SX/iuy1u8%2B3atDfvJaOgNxdbpfNtUt5YDI4t3gVitfRGmabp%2Bjabb6PpNlHbWtpAkNtbwoFSKNQFVFA4AAAAHtQBPXNfGKT4mw/DLWJ/g5rWg6d4litd%2BmXvibSpr6xiKsC5lggnt5JR5YfCrLH8xXLYzXS1hfEzwdqnxB8B6n4L0b4g6z4VuNRt/JTxB4fhs5LyzBILNEt7b3FuSQCp8yFxhjgA4IAOC%2BAnxR%2BMH7Q37Efw/wDjX4fufDWj%2BNfHHw40TXGlvNKuLjS7O8vLKC4lP2ZbhJpIlMj7Y/PViAoMnVq8Bvf2zP2o9B%2BDmnr4C0jwrdQaP8c7vwJqHjzwd8Gtd17R5NCs9Eurl9RtNE029a6jWLUYU0lyLmWJJYJWzgqF9h8JfsNT%2BDP2S0/Y80n9rf4rroNr4ITwrpWvwz6JbaxptjGiRRPBcW2lxqsyQIIVlKE7SXOZcSjR8H/sjeJvh78ENJ%2BBvgH9rz4jaJa6FcIuk6vpeieFYbi1sEt1gj01IV0T7Gtsm0OpFv5wY483ZhAAehfB3xvpvxK%2BE/hr4gaR440jxNb6zodrdp4h8P2jW9jqReJWNxBE8srQxuSWWNpJGQEKzsQSekrl/gr8IfBvwD%2BFOg/Bz4fxXK6R4e09LSza%2BuWmnlAyWllkbl5HYs7N3ZicDpXUUAFeL/sc/F344fEq6%2BKXg74/XvhS71n4f/ExvD1tfeD9FubC1uLVtG0rUkLRXN1cuZFbUHjLhwriNWCJkivaK8X%2BBP7HmsfAnxp4v8a2n7WXxK8RyeOPFcPiDXrHxDaeHRA92lrb2ZCfZNIgdI3t7S2iYB84hDKVdnZgDwzwR%2B3/APFXwZ8N/jF8RPi9D4atvF3hvS/EGsaJ8MG%2BFGteGb6/jstQfT7K8bUr%2B6ki1W3kjXT1kubWHZF9piyQNiH3n9mT4ufGPxH4%2B8f/AAL%2BP934Z1DxN4FutMmXXPCGjXGnWOoWN/aebE32a4ubl4ZUliuYmHnOGWOOQbN5jTM1z9gjwN8RNV8Qar8evjB45%2BIZ1zwTq/hK0g8ST6dbJouk6nJA97Daf2bZWp8xzaWmJ5jLMn2ZNrqS5bsfgB%2BznpXwGPiHWLj4keJvGniLxXqMN34g8WeMJLM3135FtHbQRbbK2treOKOKMBVjiXLPI7bnkdmAPRKKKKAPF/gr8XfjhrX7XHxZ%2BAvxUvfCl1o/hjQvD2ueEJ/D%2Bi3NrcxWmpXOsw/Z7x5rqZbiVF0yJvMjSBcyuNhwDXP%2BJPiJ%2B0t4V/b88F/CDTPFXw51Xw54u0jWNY8Q2cHw%2BvLfWdL0HTkSK336j/arxSyHUNRt1VWtFVka6KqpUmug0X9jzWNA/aL8YftJad%2B1l8ShqHjPSrLTL3QntPDp0%2BztLOe6mtIoB/ZHnjyje3ShpJpGZZjvLlUK9ppfwL8K6X8cPEv7QKatqc2v%2BJPDGm6A3nzRmHTrKylu5kW2URgozy3sryMxfeUiHAjUAA8e/wCCcX7U/wAXf2j/AAL5v7RfibRLLx3/AMIzpGq6z8PLf4T634UvvDjXUcpkWRdXu5n1CAyo8Ud1AkcRa2l5cnCfSteXfBv9l%2B2%2BFvxF1T4v%2BLfjT4y%2BIPinUtEt9GTW/GR02N7PT4ZZJhbwxabZWkChpZWd3aNpGIQF9qKo9RoAK8H/AGtfjN%2B0F8BvEnhfxd4M8QeB73w9rXi7QvDtt4FvvDl5JrmuXN7fLDctaXsd6sUJgtWkutjWkw8u0mZ3jQF4/eK8Z%2BJP7HK/ET9p3RP2prf9o74gaFqvh/QxpWmaBpkOiXGlwQPN5ty0aX2mXE0MtyBHHNLFKjtHDGisgHIBwv7bH7UPxm%2BFvjLxBZ/Brw54Ouk%2BE/wouviV4mHizSp7qbUYVa6hi0%2BwkiuIRYzyw2uoKbtxOqbo18l1dyKukfts/GLW/jZa67Y6d4XPwqu/i%2Bnw6hsW0u5GuG5bSxcjVDc/afIEX2w/Zvsn2fd5f7/z8/ua7j46fsI%2BCv2g2im8bfGDxxbTXfhe78MeL59IuNOgbxXoVzMJZNMvh9iKrF99Fkthbzok0oWUeY5NqP8AYc%2BGkPx7X44Q%2BNfFCWieKR4oXwEtzaDQ114ab/Zo1MJ9m%2B0%2Bb9m48r7R9n8z995PnfvKAPaKKKKACiiigAooooAKKKKACiiigAooooAKKKKACiiigAooooAKKKKACiiigAooooAKKKKACiiigAooooAKKKKACiiigAooooAKKKKACiiigAooooAKKKKACiiigAooooAKKKKACiiigAooooAKKKKACiiigD//2Q%3D%3D\">"
      ]
     },
     "metadata": {},
     "output_type": "display_data"
    }
   ],
   "source": [
    "try:\n",
    "    display_html(HTML(anim.to_html5_video()))\n",
    "# In case the build-in renderers are unaviable, fall back to\n",
    "# a custom one, that doesn't require external libraries\n",
    "except RuntimeError:\n",
    "    anim.save(None, writer=matplotlib_utils.SimpleMovieWriter(0.001))"
   ]
  },
  {
   "cell_type": "markdown",
   "metadata": {},
   "source": [
    "# Logistic regression\n",
    "Your assignment is to implement the logistic regression\n",
    "\n",
    "Plan:\n",
    "* Use a shared variable for weights\n",
    "* Use a matrix placeholder for `X`\n",
    " \n",
    "We shall train on a two-class MNIST dataset\n",
    "* please note that target `y` are `{0,1}` and not `{-1,1}` as in some formulae"
   ]
  },
  {
   "cell_type": "code",
   "execution_count": 29,
   "metadata": {},
   "outputs": [
    {
     "name": "stdout",
     "output_type": "stream",
     "text": [
      "y [shape - (360,)]: [0 1 0 1 0 1 0 0 1 1]\n",
      "X [shape - (360, 64)]:\n"
     ]
    }
   ],
   "source": [
    "from sklearn.datasets import load_digits\n",
    "mnist = load_digits(2)\n",
    "\n",
    "X, y = mnist.data, mnist.target\n",
    "\n",
    "print(\"y [shape - %s]:\" % (str(y.shape)), y[:10])\n",
    "print(\"X [shape - %s]:\" % (str(X.shape)))"
   ]
  },
  {
   "cell_type": "code",
   "execution_count": 30,
   "metadata": {},
   "outputs": [
    {
     "name": "stdout",
     "output_type": "stream",
     "text": [
      "X:\n",
      " [[  0.   0.   5.  13.   9.   1.   0.   0.   0.   0.]\n",
      " [  0.   0.   0.  12.  13.   5.   0.   0.   0.   0.]\n",
      " [  0.   0.   1.   9.  15.  11.   0.   0.   0.   0.]]\n",
      "y:\n",
      " [0 1 0 1 0 1 0 0 1 1]\n"
     ]
    },
    {
     "data": {
      "image/png": "[encoded data removed]",
      "text/plain": [
       "<matplotlib.figure.Figure at 0x1f60263be80>"
      ]
     },
     "metadata": {},
     "output_type": "display_data"
    }
   ],
   "source": [
    "print('X:\\n',X[:3,:10])\n",
    "print('y:\\n',y[:10])\n",
    "plt.imshow(X[0].reshape([8,8]));"
   ]
  },
  {
   "cell_type": "markdown",
   "metadata": {},
   "source": [
    "It's your turn now!\n",
    "Just a small reminder of the relevant math:\n",
    "\n",
    "$$\n",
    "P(y=1|X) = \\sigma(X \\cdot W + b)\n",
    "$$\n",
    "$$\n",
    "\\text{loss} = -\\log\\left(P\\left(y_\\text{predicted} = 1\\right)\\right)\\cdot y_\\text{true} - \\log\\left(1 - P\\left(y_\\text{predicted} = 1\\right)\\right)\\cdot\\left(1 - y_\\text{true}\\right)\n",
    "$$\n",
    "\n",
    "$\\sigma(x)$ is available via `tf.nn.sigmoid` and matrix multiplication via `tf.matmul`"
   ]
  },
  {
   "cell_type": "code",
   "execution_count": 31,
   "metadata": {
    "collapsed": true
   },
   "outputs": [],
   "source": [
    "from sklearn.model_selection import train_test_split\n",
    "X_train, X_test, y_train, y_test = train_test_split(\n",
    "    X, y, random_state=42)"
   ]
  },
  {
   "cell_type": "markdown",
   "metadata": {},
   "source": [
    "__Your code goes here.__ For the training and testing scaffolding to work, please stick to the names in comments."
   ]
  },
  {
   "cell_type": "code",
   "execution_count": 32,
   "metadata": {
    "collapsed": true
   },
   "outputs": [],
   "source": [
    "# Model parameters - weights and bias\n",
    "# weights = tf.Variable(...) shape should be (X.shape[1], 1)\n",
    "# b = tf.Variable(...)\n",
    "\n",
    "weights = tf.Variable(initial_value=np.zeros((X.shape[1],1)), dtype=tf.float32, name=\"weights\")\n",
    "b = tf.Variable(initial_value = 0.0, dtype=tf.float32, name=\"bias\")"
   ]
  },
  {
   "cell_type": "code",
   "execution_count": 33,
   "metadata": {
    "collapsed": true
   },
   "outputs": [],
   "source": [
    "# Placeholders for the input data\n",
    "# input_X = tf.placeholder(...)\n",
    "# input_y = tf.placeholder(...)\n",
    "\n",
    "input_X = tf.placeholder(tf.float32, shape=(None,X.shape[1]))\n",
    "input_y = tf.placeholder(tf.float32, shape=(None,))"
   ]
  },
  {
   "cell_type": "code",
   "execution_count": 34,
   "metadata": {
    "collapsed": true
   },
   "outputs": [],
   "source": [
    "# The model code\n",
    "\n",
    "# Compute a vector of predictions, resulting shape should be [input_X.shape[0],]\n",
    "# This is 1D, if you have extra dimensions, you can  get rid of them with tf.squeeze .\n",
    "# Don't forget the sigmoid.\n",
    "# predicted_y = <predicted probabilities for input_X>\n",
    "predicted_y = tf.squeeze(tf.nn.sigmoid( tf.matmul(input_X, weights) + b))\n",
    "\n",
    "# Loss. Should be a scalar number - average loss over all the objects\n",
    "# tf.reduce_mean is your friend here\n",
    "# loss = <logistic loss (scalar, mean over sample)>\n",
    "\n",
    "loss = -tf.reduce_mean((input_y*tf.log(predicted_y) + (1-input_y)*tf.log(1-predicted_y)))\n",
    "\n",
    "\n",
    "# See above for an example. tf.train.*Optimizer\n",
    "# optimizer = <optimizer that minimizes loss>\n",
    "\n",
    "optimizer = tf.train.MomentumOptimizer(0.01, 0.5).minimize(loss)"
   ]
  },
  {
   "cell_type": "markdown",
   "metadata": {},
   "source": [
    "A test to help with the debugging"
   ]
  },
  {
   "cell_type": "code",
   "execution_count": 35,
   "metadata": {
    "collapsed": true
   },
   "outputs": [],
   "source": [
    "validation_weights = 1e-3 * np.fromiter(map(lambda x:\n",
    "        s.run(weird_psychotic_function, {my_scalar:x, my_vector:[1, 0.1, 2]}),\n",
    "                                   0.15 * np.arange(1, X.shape[1] + 1)),\n",
    "                                   count=X.shape[1], dtype=np.float32)[:, np.newaxis]\n",
    "# Compute predictions for given weights and bias\n",
    "prediction_validation = s.run(\n",
    "    predicted_y, {\n",
    "    input_X: X,\n",
    "    weights: validation_weights,\n",
    "    b: 1e-1})\n",
    "\n",
    "# Load the reference values for the predictions\n",
    "validation_true_values = np.loadtxt(\"validation_predictons.txt\")\n",
    "\n",
    "assert prediction_validation.shape == (X.shape[0],),\\\n",
    "       \"Predictions must be a 1D array with length equal to the number \" \\\n",
    "       \"of examples in input_X\"\n",
    "assert np.allclose(validation_true_values, prediction_validation)\n",
    "loss_validation = s.run(\n",
    "        loss, {\n",
    "            input_X: X[:100],\n",
    "            input_y: y[-100:],\n",
    "            weights: validation_weights+1.21e-3,\n",
    "            b: -1e-1})\n",
    "assert np.allclose(loss_validation, 0.728689)"
   ]
  },
  {
   "cell_type": "code",
   "execution_count": 36,
   "metadata": {},
   "outputs": [
    {
     "name": "stdout",
     "output_type": "stream",
     "text": [
      "loss at iter 0:0.1252\n",
      "train auc: 0.999945103206\n",
      "test auc: 1.0\n",
      "loss at iter 1:0.0450\n",
      "train auc: 1.0\n",
      "test auc: 1.0\n",
      "loss at iter 2:0.0269\n",
      "train auc: 1.0\n",
      "test auc: 1.0\n",
      "loss at iter 3:0.0200\n",
      "train auc: 1.0\n",
      "test auc: 1.0\n",
      "loss at iter 4:0.0169\n",
      "train auc: 1.0\n",
      "test auc: 1.0\n"
     ]
    }
   ],
   "source": [
    "from sklearn.metrics import roc_auc_score\n",
    "s.run(tf.global_variables_initializer())\n",
    "for i in range(5):\n",
    "    s.run(optimizer, {input_X: X_train, input_y: y_train})\n",
    "    loss_i = s.run(loss, {input_X: X_train, input_y: y_train})\n",
    "    print(\"loss at iter %i:%.4f\" % (i, loss_i))\n",
    "    print(\"train auc:\", roc_auc_score(y_train, s.run(predicted_y, {input_X:X_train})))\n",
    "    print(\"test auc:\", roc_auc_score(y_test, s.run(predicted_y, {input_X:X_test})))"
   ]
  },
  {
   "cell_type": "markdown",
   "metadata": {},
   "source": [
    "### Coursera submission"
   ]
  },
  {
   "cell_type": "code",
   "execution_count": 37,
   "metadata": {
    "collapsed": true
   },
   "outputs": [],
   "source": [
    "grade_submitter = grading.Grader(\"BJCiiY8sEeeCnhKCj4fcOA\")"
   ]
  },
  {
   "cell_type": "code",
   "execution_count": 38,
   "metadata": {
    "collapsed": true
   },
   "outputs": [],
   "source": [
    "test_weights = 1e-3 * np.fromiter(map(lambda x:\n",
    "    s.run(weird_psychotic_function, {my_scalar:x, my_vector:[1, 2, 3]}),\n",
    "                               0.1 * np.arange(1, X.shape[1] + 1)),\n",
    "                               count=X.shape[1], dtype=np.float32)[:, np.newaxis]"
   ]
  },
  {
   "cell_type": "markdown",
   "metadata": {},
   "source": [
    "First, test prediction and loss computation. This part doesn't require a fitted model."
   ]
  },
  {
   "cell_type": "code",
   "execution_count": 39,
   "metadata": {
    "collapsed": true
   },
   "outputs": [],
   "source": [
    "prediction_test = s.run(\n",
    "    predicted_y, {\n",
    "    input_X: X,\n",
    "    weights: test_weights,\n",
    "    b: 1e-1})"
   ]
  },
  {
   "cell_type": "code",
   "execution_count": 40,
   "metadata": {
    "collapsed": true
   },
   "outputs": [],
   "source": [
    "assert prediction_test.shape == (X.shape[0],),\\\n",
    "       \"Predictions must be a 1D array with length equal to the number \" \\\n",
    "       \"of examples in X_test\""
   ]
  },
  {
   "cell_type": "code",
   "execution_count": 41,
   "metadata": {
    "collapsed": true
   },
   "outputs": [],
   "source": [
    "grade_submitter.set_answer(\"0ENlN\", prediction_test)"
   ]
  },
  {
   "cell_type": "code",
   "execution_count": 42,
   "metadata": {
    "collapsed": true
   },
   "outputs": [],
   "source": [
    "loss_test = s.run(\n",
    "    loss, {\n",
    "        input_X: X[:100],\n",
    "        input_y: y[-100:],\n",
    "        weights: test_weights+1.21e-3,\n",
    "        b: -1e-1})\n",
    "# Yes, the X/y indices mistmach is intentional"
   ]
  },
  {
   "cell_type": "code",
   "execution_count": 43,
   "metadata": {
    "collapsed": true
   },
   "outputs": [],
   "source": [
    "grade_submitter.set_answer(\"mMVpM\", loss_test)"
   ]
  },
  {
   "cell_type": "code",
   "execution_count": 44,
   "metadata": {
    "collapsed": true
   },
   "outputs": [],
   "source": [
    "grade_submitter.set_answer(\"D16Rc\", roc_auc_score(y_test, s.run(predicted_y, {input_X:X_test})))"
   ]
  },
  {
   "cell_type": "markdown",
   "metadata": {},
   "source": [
    "Please use the credentials obtained from the Coursera assignment page."
   ]
  },
  {
   "cell_type": "code",
   "execution_count": 45,
   "metadata": {},
   "outputs": [
    {
     "name": "stdout",
     "output_type": "stream",
     "text": [
      "Submitted to Coursera platform. See results on assignment page!\n"
     ]
    }
   ],
   "source": [
    "grade_submitter.submit(\"sshekhar.special@gmail.com\", \"phz8U5eDybOOlY8x\")"
   ]
  }
 ],
 "metadata": {
  "anaconda-cloud": {},
  "kernelspec": {
   "display_name": "Python [default]",
   "language": "python",
   "name": "python3"
  },
  "language_info": {
   "codemirror_mode": {
    "name": "ipython",
    "version": 3
   },
   "file_extension": ".py",
   "mimetype": "text/x-python",
   "name": "python",
   "nbconvert_exporter": "python",
   "pygments_lexer": "ipython3",
   "version": "3.5.4"
  }
 },
 "nbformat": 4,
 "nbformat_minor": 1
}
